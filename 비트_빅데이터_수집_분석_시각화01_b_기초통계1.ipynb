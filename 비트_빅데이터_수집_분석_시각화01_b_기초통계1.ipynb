{
  "nbformat": 4,
  "nbformat_minor": 0,
  "metadata": {
    "colab": {
      "provenance": [],
      "authorship_tag": "ABX9TyOLNxbQ668u4oIWBXmqr9rE",
      "include_colab_link": true
    },
    "kernelspec": {
      "name": "python3",
      "display_name": "Python 3"
    },
    "language_info": {
      "name": "python"
    }
  },
  "cells": [
    {
      "cell_type": "markdown",
      "metadata": {
        "id": "view-in-github",
        "colab_type": "text"
      },
      "source": [
        "<a href=\"https://colab.research.google.com/github/GounLee/BIT-education/blob/master/%EB%B9%84%ED%8A%B8_%EB%B9%85%EB%8D%B0%EC%9D%B4%ED%84%B0_%EC%88%98%EC%A7%91_%EB%B6%84%EC%84%9D_%EC%8B%9C%EA%B0%81%ED%99%9401_b_%EA%B8%B0%EC%B4%88%ED%86%B5%EA%B3%841.ipynb\" target=\"_parent\"><img src=\"https://colab.research.google.com/assets/colab-badge.svg\" alt=\"Open In Colab\"/></a>"
      ]
    },
    {
      "cell_type": "markdown",
      "source": [
        "평균,중간값,사분위값, 최빈값, 분산, 표준편차, 공분산, 상관계수"
      ],
      "metadata": {
        "id": "Xb2Kk6Kt79l2"
      }
    },
    {
      "cell_type": "code",
      "execution_count": 6,
      "metadata": {
        "id": "BhZn7_Uw7ReG"
      },
      "outputs": [],
      "source": [
        "import numpy as np"
      ]
    },
    {
      "cell_type": "code",
      "source": [
        "heights = np.random.normal(161.4,4,200) #평균 161.4, 표준편차 4, 표본 200개 생성\n",
        "print(heights)\n",
        "bmis=np.random.normal(21,2,200)\n",
        "weights=bmis*(heights**2)/1000"
      ],
      "metadata": {
        "colab": {
          "base_uri": "https://localhost:8080/"
        },
        "id": "6irZfc498KNM",
        "outputId": "cc9f4774-e0f1-45e1-827e-27846930955e"
      },
      "execution_count": 10,
      "outputs": [
        {
          "output_type": "stream",
          "name": "stdout",
          "text": [
            "[152.33374681 154.17217065 156.8541648  164.84023108 163.56445199\n",
            " 155.68345787 159.43182974 160.82282957 170.32751122 163.20015374\n",
            " 165.95887643 164.9156971  159.76837345 161.03686365 159.25588335\n",
            " 160.35457212 158.00461194 167.36877731 161.61664905 151.72475665\n",
            " 158.27975425 160.66470628 164.31510621 170.23642975 157.13264084\n",
            " 159.4243261  159.52898578 161.54325828 161.71151967 161.88030723\n",
            " 162.54465383 163.74627684 164.42478857 149.05852675 158.70995736\n",
            " 159.96098631 164.21679209 166.43198759 167.09981693 161.64774896\n",
            " 164.14478668 163.5744012  153.9861734  157.46722625 166.83321995\n",
            " 164.41629689 160.9455978  163.89826049 152.84154986 156.52423701\n",
            " 156.91936635 155.70035046 172.30118184 159.67861814 163.72444792\n",
            " 166.72385298 157.11818386 162.55375786 158.07128647 159.16837473\n",
            " 159.0654153  159.05733906 160.3118305  163.96750707 163.39305621\n",
            " 160.87612779 164.13912821 157.48705415 164.99051776 157.27534038\n",
            " 168.34535305 163.56206014 157.99591976 159.71548336 165.38191672\n",
            " 161.71756328 161.47293034 157.72494766 163.98666331 159.48192533\n",
            " 164.77486408 165.39496687 165.308717   167.9569456  165.8793029\n",
            " 161.3614344  163.73442332 152.5003763  159.23081108 161.39434191\n",
            " 159.66639847 167.43902525 154.79661838 159.08085156 160.79712381\n",
            " 164.70673303 166.23812746 162.0834472  160.48168203 161.53888488\n",
            " 168.86571385 154.4983907  167.43695464 162.57336394 157.48316704\n",
            " 153.74417742 160.83823461 162.76642987 159.76098463 159.45301181\n",
            " 159.08088336 158.746738   161.97815713 160.20025984 163.65189622\n",
            " 161.28962865 157.73517013 165.54649523 157.32966522 161.06122381\n",
            " 164.1501382  165.90147643 159.77074449 156.93283594 165.2339407\n",
            " 163.66679326 156.95039387 165.76513374 166.22057765 170.50265805\n",
            " 159.82207169 158.45827646 160.48205402 163.16857615 159.58087011\n",
            " 157.85232661 161.2870129  169.25862529 152.69574119 167.15249029\n",
            " 161.81156386 161.74554916 152.89410407 167.76795039 161.17235919\n",
            " 167.39730574 161.98342372 165.05484105 156.25207342 159.93958159\n",
            " 157.69162043 164.55459248 156.5041642  157.76889461 167.70788445\n",
            " 164.62549518 163.6337319  157.69381934 155.63291864 164.3175122\n",
            " 163.47793089 164.32301312 165.29179445 160.55333636 159.62087365\n",
            " 163.34529182 171.33050364 163.46037865 166.4477133  157.75415235\n",
            " 157.16334644 159.77610012 161.68571084 163.03991562 160.46921926\n",
            " 162.04033551 164.3640718  156.36702874 158.17916983 161.98185796\n",
            " 162.50776411 159.50940939 153.21125889 161.0204033  160.75228574\n",
            " 163.30815838 155.76612088 158.92569097 163.26047639 157.50401452\n",
            " 161.66202384 163.77925624 160.22343706 157.02261128 159.92048714\n",
            " 161.96258589 162.0330118  159.45542497 158.9074823  167.78177803]\n"
          ]
        }
      ]
    },
    {
      "cell_type": "code",
      "source": [
        "for h,w in zip(heights,weights):\n",
        "  print(f\"{h:2f},{w:2f}\")"
      ],
      "metadata": {
        "colab": {
          "base_uri": "https://localhost:8080/"
        },
        "id": "Hw0q4vMvFkwT",
        "outputId": "a2b6a7e0-edd0-4ca1-d3dd-663baa57eb60"
      },
      "execution_count": 11,
      "outputs": [
        {
          "output_type": "stream",
          "name": "stdout",
          "text": [
            "152.333747,472.437087\n",
            "154.172171,487.324292\n",
            "156.854165,555.413767\n",
            "164.840231,526.102773\n",
            "163.564452,516.860777\n",
            "155.683458,485.129042\n",
            "159.431830,583.930649\n",
            "160.822830,543.183316\n",
            "170.327511,656.105892\n",
            "163.200154,629.774945\n",
            "165.958876,679.537268\n",
            "164.915697,495.538057\n",
            "159.768373,594.454643\n",
            "161.036864,520.800212\n",
            "159.255883,534.783274\n",
            "160.354572,595.136403\n",
            "158.004612,503.424315\n",
            "167.368777,516.988857\n",
            "161.616649,462.348089\n",
            "151.724757,421.808167\n",
            "158.279754,590.967066\n",
            "160.664706,569.825762\n",
            "164.315106,625.904165\n",
            "170.236430,503.916401\n",
            "157.132641,512.471291\n",
            "159.424326,478.406663\n",
            "159.528986,528.478456\n",
            "161.543258,582.985946\n",
            "161.711520,620.034309\n",
            "161.880307,607.798348\n",
            "162.544654,530.879674\n",
            "163.746277,513.921625\n",
            "164.424789,512.154890\n",
            "149.058527,450.607646\n",
            "158.709957,464.213349\n",
            "159.960986,557.962542\n",
            "164.216792,509.812489\n",
            "166.431988,550.702768\n",
            "167.099817,687.231591\n",
            "161.647749,500.224646\n",
            "164.144787,573.710411\n",
            "163.574401,600.768914\n",
            "153.986173,596.103168\n",
            "157.467226,509.361859\n",
            "166.833220,587.454854\n",
            "164.416297,685.057585\n",
            "160.945598,543.918542\n",
            "163.898260,527.433291\n",
            "152.841550,446.120942\n",
            "156.524237,494.703082\n",
            "156.919366,548.247977\n",
            "155.700350,532.868694\n",
            "172.301182,589.247226\n",
            "159.678618,506.392494\n",
            "163.724448,669.292832\n",
            "166.723853,591.676583\n",
            "157.118184,540.354865\n",
            "162.553758,606.698655\n",
            "158.071286,494.775815\n",
            "159.168375,567.113825\n",
            "159.065415,479.175358\n",
            "159.057339,582.317281\n",
            "160.311830,503.341976\n",
            "163.967507,620.843373\n",
            "163.393056,506.884370\n",
            "160.876128,535.075554\n",
            "164.139128,564.392449\n",
            "157.487054,574.373315\n",
            "164.990518,531.807866\n",
            "157.275340,644.323615\n",
            "168.345353,527.252228\n",
            "163.562060,549.533813\n",
            "157.995920,535.240589\n",
            "159.715483,538.149476\n",
            "165.381917,574.833811\n",
            "161.717563,529.451756\n",
            "161.472930,516.499658\n",
            "157.724948,543.959164\n",
            "163.986663,488.243976\n",
            "159.481925,539.219378\n",
            "164.774864,535.085459\n",
            "165.394967,566.700724\n",
            "165.308717,580.518962\n",
            "167.956946,606.981205\n",
            "165.879303,577.941612\n",
            "161.361434,478.345674\n",
            "163.734423,486.372299\n",
            "152.500376,537.626392\n",
            "159.230811,523.701504\n",
            "161.394342,530.028881\n",
            "159.666398,570.232067\n",
            "167.439025,589.682791\n",
            "154.796618,511.438366\n",
            "159.080852,561.646506\n",
            "160.797124,574.973737\n",
            "164.706733,689.435050\n",
            "166.238127,484.022245\n",
            "162.083447,564.130184\n",
            "160.481682,560.067222\n",
            "161.538885,588.716971\n",
            "168.865714,576.756330\n",
            "154.498391,446.975002\n",
            "167.436955,550.197822\n",
            "162.573364,612.930196\n",
            "157.483167,474.259430\n",
            "153.744177,459.491683\n",
            "160.838235,443.190249\n",
            "162.766430,561.002830\n",
            "159.760985,572.508565\n",
            "159.453012,538.385246\n",
            "159.080883,468.699424\n",
            "158.746738,587.547440\n",
            "161.978157,622.787187\n",
            "160.200260,556.717346\n",
            "163.651896,487.860598\n",
            "161.289629,484.924369\n",
            "157.735170,452.468826\n",
            "165.546495,635.449909\n",
            "157.329665,504.969683\n",
            "161.061224,559.598424\n",
            "164.150138,546.434852\n",
            "165.901476,591.179115\n",
            "159.770744,544.007627\n",
            "156.932836,503.582539\n",
            "165.233941,619.734185\n",
            "163.666793,651.058746\n",
            "156.950394,624.432750\n",
            "165.765134,611.729434\n",
            "166.220578,544.379136\n",
            "170.502658,491.735832\n",
            "159.822072,527.974296\n",
            "158.458276,547.546160\n",
            "160.482054,611.016567\n",
            "163.168576,587.123556\n",
            "159.580870,465.192301\n",
            "157.852327,565.620452\n",
            "161.287013,520.201768\n",
            "169.258625,597.062355\n",
            "152.695741,490.525170\n",
            "167.152490,638.597052\n",
            "161.811564,571.009777\n",
            "161.745549,515.988262\n",
            "152.894104,471.227533\n",
            "167.767950,619.046096\n",
            "161.172359,519.883342\n",
            "167.397306,699.322803\n",
            "161.983424,559.574364\n",
            "165.054841,523.832571\n",
            "156.252073,493.252349\n",
            "159.939582,545.255166\n",
            "157.691620,472.322872\n",
            "164.554592,602.210105\n",
            "156.504164,504.436932\n",
            "157.768895,500.062993\n",
            "167.707884,613.265821\n",
            "164.625495,497.669927\n",
            "163.633732,608.223631\n",
            "157.693819,500.181994\n",
            "155.632919,480.832170\n",
            "164.317512,560.060698\n",
            "163.477931,618.594997\n",
            "164.323013,483.599520\n",
            "165.291794,572.700427\n",
            "160.553336,540.872039\n",
            "159.620874,482.952929\n",
            "163.345292,631.907996\n",
            "171.330504,678.942731\n",
            "163.460379,577.402637\n",
            "166.447713,627.983221\n",
            "157.754152,632.272959\n",
            "157.163346,529.038705\n",
            "159.776100,487.751279\n",
            "161.685711,552.225627\n",
            "163.039916,514.763459\n",
            "160.469219,473.442656\n",
            "162.040336,531.409561\n",
            "164.364072,568.560235\n",
            "156.367029,492.212212\n",
            "158.179170,528.408569\n",
            "161.981858,521.677351\n",
            "162.507764,509.152840\n",
            "159.509409,586.319012\n",
            "153.211259,524.479547\n",
            "161.020403,605.025129\n",
            "160.752286,498.113298\n",
            "163.308158,443.329588\n",
            "155.766121,467.213699\n",
            "158.925691,528.071554\n",
            "163.260476,468.630143\n",
            "157.504015,450.630638\n",
            "161.662024,696.913157\n",
            "163.779256,631.875062\n",
            "160.223437,525.040495\n",
            "157.022611,543.788800\n",
            "159.920487,594.382523\n",
            "161.962586,589.294727\n",
            "162.033012,550.794320\n",
            "159.455425,551.245313\n",
            "158.907482,542.059437\n",
            "167.781778,731.312235\n"
          ]
        }
      ]
    },
    {
      "cell_type": "code",
      "source": [
        "print(\"===키===\")\n",
        "print(\"평균     :\",heights.mean())\n",
        "print(\"중간값   :\",np.median(heights))\n",
        "print(\"1/4분위값:\",np.quantile(heights,0.25))\n",
        "print(\"2/4분위값:\",np.quantile(heights,0.5))\n",
        "print(\"3/4분위값:\",np.quantile(heights,0.75))\n",
        "hist,bins=np.histogram(heights,bins=[x/2 for x in range(145*2,180*2,5)])\n",
        "hist,_=np.histogram(heights,bins=bins)\n",
        "print(hist)\n",
        "print(bins)\n",
        "astart=hist.argmax()\n",
        "aend=astart+1\n",
        "print(f\"최빈 구간:{bins[astart]}~{bins[aend]}, 개수:{hist.max()}\")\n",
        "print(hist.argmax())\n"
      ],
      "metadata": {
        "colab": {
          "base_uri": "https://localhost:8080/"
        },
        "id": "ffFmgr7a8ojP",
        "outputId": "e671c8a0-f0d5-4eb8-ed86-5455c44abe5a"
      },
      "execution_count": 9,
      "outputs": [
        {
          "output_type": "stream",
          "name": "stdout",
          "text": [
            "===키===\n",
            "평균     : 161.2826811808168\n",
            "중간값   : 161.32465014237528\n",
            "1/4분위값: 158.3265136932423\n",
            "2/4분위값: 161.32465014237528\n",
            "3/4분위값: 164.25648032211683\n",
            "[ 1  1  2 12 20 45 40 43 23  8  4  1  0]\n",
            "[145.  147.5 150.  152.5 155.  157.5 160.  162.5 165.  167.5 170.  172.5\n",
            " 175.  177.5]\n",
            "최빈 구간:157.5~160.0, 개수:45\n",
            "5\n"
          ]
        }
      ]
    },
    {
      "cell_type": "code",
      "source": [
        "print(\"{0:\")"
      ],
      "metadata": {
        "id": "cab7tWoV_ky0"
      },
      "execution_count": null,
      "outputs": []
    },
    {
      "cell_type": "code",
      "source": [
        "print(\"상관계수(키,몸무게):\",correl(heights,weights))"
      ],
      "metadata": {
        "colab": {
          "base_uri": "https://localhost:8080/",
          "height": 174
        },
        "id": "-9MtL9JoGkz1",
        "outputId": "a0eb5bcc-522e-4daa-99dc-a1f52e5aaff0"
      },
      "execution_count": 15,
      "outputs": [
        {
          "output_type": "error",
          "ename": "NameError",
          "evalue": "ignored",
          "traceback": [
            "\u001b[0;31m---------------------------------------------------------------------------\u001b[0m",
            "\u001b[0;31mNameError\u001b[0m                                 Traceback (most recent call last)",
            "\u001b[0;32m<ipython-input-15-5453413712ba>\u001b[0m in \u001b[0;36m<module>\u001b[0;34m\u001b[0m\n\u001b[0;32m----> 1\u001b[0;31m \u001b[0mprint\u001b[0m\u001b[0;34m(\u001b[0m\u001b[0;34m\"상관계수(키,몸무게):\"\u001b[0m\u001b[0;34m,\u001b[0m\u001b[0mcorrel\u001b[0m\u001b[0;34m(\u001b[0m\u001b[0mheights\u001b[0m\u001b[0;34m,\u001b[0m\u001b[0mweights\u001b[0m\u001b[0;34m)\u001b[0m\u001b[0;34m)\u001b[0m\u001b[0;34m\u001b[0m\u001b[0;34m\u001b[0m\u001b[0m\n\u001b[0m",
            "\u001b[0;31mNameError\u001b[0m: name 'correl' is not defined"
          ]
        }
      ]
    },
    {
      "cell_type": "markdown",
      "source": [
        "확률과 통계"
      ],
      "metadata": {
        "id": "uqMooVwmGz1D"
      }
    },
    {
      "cell_type": "markdown",
      "source": [
        "독립사건, 정규분포, 중심극한정리"
      ],
      "metadata": {
        "id": "K7A9xYpTINWi"
      }
    },
    {
      "cell_type": "code",
      "source": [
        "#P(A):사건A가 발생할 확률\n",
        "#P(B):사건B가 발생할 확률\n",
        "#P(A|B):사건 B가 발생한 상태에서 사건 A가 발생할 확률\n",
        "#P(A and B):사건 A와 사건 B가 모두 발생할 확률\n",
        "#만약 사건A와 사건 B가 서로 영향을 주지 않으면 독립 사건이라 한다.\n",
        "#P(A|B)=P(A)일 때 사건 A와 사건B는 독립 사건이다.\n",
        "#A와 B가 독립 사건일 때 P(A and B)=P(A)*P(B) 공식이 성립한다."
      ],
      "metadata": {
        "id": "6W6ZZciLIOoK"
      },
      "execution_count": null,
      "outputs": []
    },
    {
      "cell_type": "code",
      "source": [
        "import math"
      ],
      "metadata": {
        "id": "KL63H1SXKLAl"
      },
      "execution_count": 17,
      "outputs": []
    },
    {
      "cell_type": "code",
      "source": [
        "pa=1/2 #동전을 던져서 앞면이 나올 확률\n",
        "pb=1/6 #주사위를 던져서 1면이 나올 확률\n",
        "pab=pa*pb\n",
        "print(pab)\n",
        "logit_pab=math.log(pa)+math.log(pb)\n",
        "inv_logit_pab=math.exp(logit_pab)\n",
        "print(inv_logit_pab)"
      ],
      "metadata": {
        "colab": {
          "base_uri": "https://localhost:8080/"
        },
        "id": "1nqbrOadKPqd",
        "outputId": "0afc4081-59c1-44c4-b4d4-7d7d7c042ab6"
      },
      "execution_count": 19,
      "outputs": [
        {
          "output_type": "stream",
          "name": "stdout",
          "text": [
            "0.08333333333333333\n",
            "0.08333333333333333\n"
          ]
        }
      ]
    },
    {
      "cell_type": "code",
      "source": [
        "#균등분포:사건이 발생할 확률이 모두 같게 분포\n",
        "def uniform_pdf(x,min_v=0,max_v=1):\n",
        "  if(min_v<=x<=max_v):\n",
        "    return 1/(max_v-min_v+1)  \n",
        "  return 0"
      ],
      "metadata": {
        "id": "aDyo9yA0Lg7W"
      },
      "execution_count": 24,
      "outputs": []
    },
    {
      "cell_type": "code",
      "source": [
        "print(uniform_pdf(1,1,6)) #1에서 6사이로 구성한 균등한 분포에서 1이 나올 확률\n",
        "print(uniform_pdf(2,1,6)) #1에서 6사이로 구성한 균등한 분포에서 2이 나올 확률\n",
        "print(uniform_pdf(3,1,6)) #1에서 6사이로 구성한 균등한 분포에서 3이 나올 확률\n",
        "print(uniform_pdf(4,1,6)) #1에서 6사이로 구성한 균등한 분포에서 4이 나올 확률\n",
        "print(uniform_pdf(5,1,6)) #1에서 6사이로 구성한 균등한 분포에서 5이 나올 확률\n",
        "print(uniform_pdf(6,1,6)) #1에서 6사이로 구성한 균등한 분포에서 6이 나올 확률"
      ],
      "metadata": {
        "colab": {
          "base_uri": "https://localhost:8080/"
        },
        "id": "5yKRG1i2NnVS",
        "outputId": "00583c42-6a1e-44da-a075-f5715d35e7e4"
      },
      "execution_count": 26,
      "outputs": [
        {
          "output_type": "stream",
          "name": "stdout",
          "text": [
            "0.16666666666666666\n",
            "0.16666666666666666\n",
            "0.16666666666666666\n",
            "0.16666666666666666\n",
            "0.16666666666666666\n",
            "0.16666666666666666\n"
          ]
        }
      ]
    },
    {
      "cell_type": "code",
      "source": [
        "# 누적균등분포 : 균등분포에서 누적값\n",
        "def uniform_cdf(x, min_v = 0, max_v = 1):\n",
        "  if x<min_v:\n",
        "    return 0 \n",
        "  if min_v<=x<=max_v:\n",
        "    return (x-min_v+1)/(max_v-min_v+1)\n",
        "  return 1"
      ],
      "metadata": {
        "id": "PQEObhhrNtsk"
      },
      "execution_count": 34,
      "outputs": []
    },
    {
      "cell_type": "code",
      "source": [
        "print(uniform_cdf(1,1,6)) #1에서 6사이로 구성한 균등한 분포에서 1이 나올 확률\n",
        "print(uniform_cdf(2,1,6)) #1에서 6사이로 구성한 균등한 분포에서 2이 나올 확률\n",
        "print(uniform_cdf(3,1,6)) #1에서 6사이로 구성한 균등한 분포에서 3이 나올 확률\n",
        "print(uniform_cdf(4,1,6)) #1에서 6사이로 구성한 균등한 분포에서 4이 나올 확률\n",
        "print(uniform_cdf(5,1,6)) #1에서 6사이로 구성한 균등한 분포에서 5이 나올 확률\n",
        "print(uniform_cdf(6,1,6)) #1에서 6사이로 구성한 균등한 분포에서 6이 나올 확률"
      ],
      "metadata": {
        "colab": {
          "base_uri": "https://localhost:8080/"
        },
        "id": "4FYedlvbOVGy",
        "outputId": "f386b317-ec58-4716-fe1c-7b3f89c059b5"
      },
      "execution_count": 35,
      "outputs": [
        {
          "output_type": "stream",
          "name": "stdout",
          "text": [
            "0.16666666666666666\n",
            "0.3333333333333333\n",
            "0.5\n",
            "0.6666666666666666\n",
            "0.8333333333333334\n",
            "1.0\n"
          ]
        }
      ]
    },
    {
      "cell_type": "code",
      "source": [],
      "metadata": {
        "id": "fM6qz5bnOVz7"
      },
      "execution_count": null,
      "outputs": []
    },
    {
      "cell_type": "code",
      "source": [
        "import matplotlib.pyplot as plt"
      ],
      "metadata": {
        "id": "Agmav7g9OXsZ"
      },
      "execution_count": 27,
      "outputs": []
    },
    {
      "cell_type": "code",
      "source": [
        "xs=[x for x in range(-10,10)]\n",
        "pys=[uniform_pdf(x,1,6) for x in xs]\n",
        "cys=[uniform_cdf(x,1,6) for x in xs]\n",
        "print(xs)\n",
        "print(pys)\n",
        "print(cys)"
      ],
      "metadata": {
        "colab": {
          "base_uri": "https://localhost:8080/"
        },
        "id": "N7IbY2_OOu-q",
        "outputId": "ace48431-3df1-4b22-a6f7-d29446b5c862"
      },
      "execution_count": 36,
      "outputs": [
        {
          "output_type": "stream",
          "name": "stdout",
          "text": [
            "[-10, -9, -8, -7, -6, -5, -4, -3, -2, -1, 0, 1, 2, 3, 4, 5, 6, 7, 8, 9]\n",
            "[0, 0, 0, 0, 0, 0, 0, 0, 0, 0, 0, 0.16666666666666666, 0.16666666666666666, 0.16666666666666666, 0.16666666666666666, 0.16666666666666666, 0.16666666666666666, 0, 0, 0]\n",
            "[0, 0, 0, 0, 0, 0, 0, 0, 0, 0, 0, 0.16666666666666666, 0.3333333333333333, 0.5, 0.6666666666666666, 0.8333333333333334, 1.0, 1, 1, 1]\n"
          ]
        }
      ]
    },
    {
      "cell_type": "code",
      "source": [
        "fig,ax = plt.subplots(1,2) #1 X 2 도면을 만들어 주세요.\n",
        "ax[0].plot(xs,pys,\"b.\",label=\"pdf\")\n",
        "ax[1].plot(xs,cys,\"r\",label=\"cdf\")\n",
        "plt.show()"
      ],
      "metadata": {
        "colab": {
          "base_uri": "https://localhost:8080/",
          "height": 269
        },
        "id": "a9GGwD_tPJxx",
        "outputId": "6d9a71c5-7ade-42d0-aa88-aa2eaf153929"
      },
      "execution_count": 37,
      "outputs": [
        {
          "output_type": "display_data",
          "data": {
            "text/plain": [
              "<Figure size 432x288 with 2 Axes>"
            ],
            "image/png": "[encoded data removed]"
          },
          "metadata": {
            "needs_background": "light"
          }
        }
      ]
    },
    {
      "cell_type": "code",
      "source": [
        "#정규분포함수\n",
        "def normal_pdf(x,mu=0, sigma=1):\n",
        "  pre = 1/(sigma*math.sqrt(2*math.pi))\n",
        "  post = math.exp(-((x-mu)**2)/(2*(sigma**2)))\n",
        "  return pre*post"
      ],
      "metadata": {
        "id": "JHO_3O25QGmi"
      },
      "execution_count": 32,
      "outputs": []
    },
    {
      "cell_type": "code",
      "source": [
        "xs=[x/10.0 for x in range(-50,51)]\n",
        "ys1=[normal_pdf(x) for x in xs]\n",
        "ys2=[normal_pdf(x,sigma=0.2) for x in xs]\n",
        "ys3=[normal_pdf(x,sigma=2.0) for x in xs]\n",
        "ys4=[normal_pdf(x,mu=-2, sigma=0.5) for x in xs]\n",
        "ys5=[normal_pdf(x,mu=-2, sigma=1.0) for x in xs]\n",
        "plt.figure(figsize=(6,5))\n",
        "plt.plot(xs,ys1,'-',label='mu=0, sigma=1')\n",
        "plt.plot(xs,ys2,'--',label='mu=0, sigma=0.2')\n",
        "plt.plot(xs,ys3,':',label='mu=0, sigma=2.0')\n",
        "plt.plot(xs,ys4,'-',label='mu=-2, sigma=0.5')\n",
        "plt.plot(xs,ys5,'-',label='mu=-2, sigma=1.0')\n",
        "plt.legend()\n",
        "plt.show()"
      ],
      "metadata": {
        "colab": {
          "base_uri": "https://localhost:8080/",
          "height": 320
        },
        "id": "0MifBaPCVcqx",
        "outputId": "ef3c8b6e-7439-42c4-ec29-ee8a23e4551e"
      },
      "execution_count": 43,
      "outputs": [
        {
          "output_type": "display_data",
          "data": {
            "text/plain": [
              "<Figure size 432x360 with 1 Axes>"
            ],
            "image/png": "[encoded data removed]"
          },
          "metadata": {
            "needs_background": "light"
          }
        }
      ]
    },
    {
      "cell_type": "code",
      "source": [
        "import scipy.stats as st\n",
        "xs=[x/10.0 for x in range(-50,51)]\n",
        "ys1=[st.norm.pdf(x) for x in xs]\n",
        "ys2=[st.norm.pdf(x,scale=0.2) for x in xs]\n",
        "ys3=[st.norm.pdf(x,scale=2.0) for x in xs]\n",
        "ys4=[st.norm.pdf(x,loc=-2, scale=0.5) for x in xs]\n",
        "ys5=[st.norm.pdf(x,loc=-2, scale=1.0) for x in xs]\n",
        "plt.figure(figsize=(6,5))\n",
        "plt.plot(xs,ys1,'-',label='mu=0, scale=1')\n",
        "plt.plot(xs,ys2,'--',label='mu=0, scale=0.2')\n",
        "plt.plot(xs,ys3,':',label='mu=0, scale=2.0')\n",
        "plt.plot(xs,ys4,'-',label='mu=-2, scale=0.5')\n",
        "plt.plot(xs,ys5,'-',label='mu=-2, scale=1.0')\n",
        "plt.legend()\n",
        "plt.show()"
      ],
      "metadata": {
        "colab": {
          "base_uri": "https://localhost:8080/",
          "height": 320
        },
        "id": "Rf2q79NpXoPI",
        "outputId": "0e9edd3a-67d9-4323-f10b-9fd8e3b580bf"
      },
      "execution_count": 42,
      "outputs": [
        {
          "output_type": "display_data",
          "data": {
            "text/plain": [
              "<Figure size 432x360 with 1 Axes>"
            ],
            "image/png": "[encoded data removed]"
          },
          "metadata": {
            "needs_background": "light"
          }
        }
      ]
    },
    {
      "cell_type": "code",
      "source": [
        "def normal_cdf(x, mu=0, sigma=1):#정규누적분포\n",
        "    return (1 + math.erf((x - mu) / math.sqrt(2) / sigma)) / 2"
      ],
      "metadata": {
        "id": "qLQRPiPxbLWX"
      },
      "execution_count": null,
      "outputs": []
    },
    {
      "cell_type": "code",
      "source": [
        "xs=[x/10.0 for x in range(-50,51)]\n",
        "ys1=[normal_cdf(x) for x in xs]\n",
        "ys2=[normal_cdf(x,sigma=0.2) for x in xs]\n",
        "ys3=[normal_cdf(x,sigma=2.0) for x in xs]\n",
        "ys4=[normal_cdf(x,mu=-2, sigma=0.5) for x in xs]\n",
        "ys5=[normal_cdf(x,mu=-2, sigma=1.0) for x in xs]\n",
        "plt.figure(figsize=(6,5))\n",
        "plt.plot(xs,ys1,'-',label='mu=0, sigma=1')\n",
        "plt.plot(xs,ys2,'--',label='mu=0, sigma=0.2')\n",
        "plt.plot(xs,ys3,':',label='mu=0, sigma=2.0')\n",
        "plt.plot(xs,ys4,'-',label='mu=-2, sigma=0.5')\n",
        "plt.plot(xs,ys5,'-',label='mu=-2, sigma=1.0')\n",
        "plt.legend()\n",
        "plt.show()"
      ],
      "metadata": {
        "colab": {
          "base_uri": "https://localhost:8080/",
          "height": 320
        },
        "id": "mAM8-_Jka6XQ",
        "outputId": "57c23b80-6cc6-4785-f0d9-e712c3e73c76"
      },
      "execution_count": 45,
      "outputs": [
        {
          "output_type": "display_data",
          "data": {
            "text/plain": [
              "<Figure size 432x360 with 1 Axes>"
            ],
            "image/png": "[encoded data removed]"
          },
          "metadata": {
            "needs_background": "light"
          }
        }
      ]
    },
    {
      "cell_type": "code",
      "source": [
        "def normal_cdf(x, mu=0, sigma=1):#정규누적분포\n",
        "    return (1 + math.erf((x - mu) / math.sqrt(2) / sigma)) / 2\n",
        "xs = [x / 10.0 for x in range(-50,50)]\n",
        "plt.plot(xs,[normal_cdf(x,sigma=1) for x in xs],'-',label='mu=0,sigma=1')\n",
        "plt.plot(xs,[normal_cdf(x,sigma=2) for x in xs],'--',label='mu=0,sigma=2')\n",
        "plt.plot(xs,[normal_cdf(x,sigma=0.5) for x in xs],':',label='mu=0,sigma=0.5')\n",
        "plt.plot(xs,[normal_cdf(x,mu=-1) for x in xs],'-.',label='mu=-1,sigma=1')\n",
        "plt.legend(loc=4)\n",
        "plt.title('Various Normal cdfs')\n",
        "plt.show()"
      ],
      "metadata": {
        "colab": {
          "base_uri": "https://localhost:8080/",
          "height": 281
        },
        "id": "UgQlNIOcZ5mJ",
        "outputId": "9520e929-f3e8-462f-abed-356b19d1b4d3"
      },
      "execution_count": 44,
      "outputs": [
        {
          "output_type": "display_data",
          "data": {
            "text/plain": [
              "<Figure size 432x288 with 1 Axes>"
            ],
            "image/png": "[encoded data removed]"
          },
          "metadata": {
            "needs_background": "light"
          }
        }
      ]
    },
    {
      "cell_type": "code",
      "source": [
        "def ber_trial(p):\n",
        "  return 1 if np.random.random()<p else 0"
      ],
      "metadata": {
        "id": "U_U7woK-bTDZ"
      },
      "execution_count": 48,
      "outputs": []
    },
    {
      "cell_type": "code",
      "source": [
        "cnt=0\n",
        "for _ in range(120):\n",
        "  re = ber_trial(1/6)\n",
        "  print(re,end=' ')\n",
        "  if re==1:\n",
        "    cnt+=1\n",
        "    print()\n",
        "    print(cnt)"
      ],
      "metadata": {
        "colab": {
          "base_uri": "https://localhost:8080/"
        },
        "id": "v3RFesyQbm5_",
        "outputId": "363b7937-1475-4d97-ba6e-d2ccb5ba8a25"
      },
      "execution_count": 49,
      "outputs": [
        {
          "output_type": "stream",
          "name": "stdout",
          "text": [
            "1 \n",
            "1\n",
            "0 0 0 0 0 0 0 0 1 \n",
            "2\n",
            "0 1 \n",
            "3\n",
            "0 1 \n",
            "4\n",
            "0 1 \n",
            "5\n",
            "0 0 0 0 0 1 \n",
            "6\n",
            "0 0 0 0 0 0 0 0 0 0 0 0 0 0 0 0 0 0 0 0 1 \n",
            "7\n",
            "0 0 0 0 0 0 0 0 0 0 1 \n",
            "8\n",
            "0 0 0 0 1 \n",
            "9\n",
            "0 0 0 0 0 0 0 0 0 0 0 1 \n",
            "10\n",
            "0 0 1 \n",
            "11\n",
            "0 0 1 \n",
            "12\n",
            "0 0 1 \n",
            "13\n",
            "0 0 0 0 1 \n",
            "14\n",
            "0 0 1 \n",
            "15\n",
            "0 0 0 0 0 0 0 0 1 \n",
            "16\n",
            "0 0 0 0 1 \n",
            "17\n",
            "1 \n",
            "18\n",
            "0 1 \n",
            "19\n",
            "1 \n",
            "20\n",
            "0 0 0 0 0 0 0 0 1 \n",
            "21\n",
            "0 0 0 0 1 \n",
            "22\n"
          ]
        }
      ]
    },
    {
      "cell_type": "code",
      "source": [
        "def ber(n,p):\n",
        "  return sum(ber_trial(p) for _ in range(n))"
      ],
      "metadata": {
        "id": "BLVmnDPLb5m7"
      },
      "execution_count": 50,
      "outputs": []
    },
    {
      "cell_type": "code",
      "source": [
        "for _ in range(20):\n",
        "  print(ber(120,1/6),end=',')\n",
        "  print()"
      ],
      "metadata": {
        "colab": {
          "base_uri": "https://localhost:8080/"
        },
        "id": "eaeofNc4cr0L",
        "outputId": "d265997d-a2b4-43f0-e134-e8be7df9dc0c"
      },
      "execution_count": 51,
      "outputs": [
        {
          "output_type": "stream",
          "name": "stdout",
          "text": [
            "23,\n",
            "18,\n",
            "21,\n",
            "19,\n",
            "24,\n",
            "26,\n",
            "25,\n",
            "19,\n",
            "22,\n",
            "21,\n",
            "24,\n",
            "20,\n",
            "14,\n",
            "31,\n",
            "25,\n",
            "17,\n",
            "19,\n",
            "25,\n",
            "22,\n",
            "15,\n"
          ]
        }
      ]
    },
    {
      "cell_type": "code",
      "source": [
        "from collections import Counter"
      ],
      "metadata": {
        "id": "w0L4yxRNdTof"
      },
      "execution_count": 52,
      "outputs": []
    },
    {
      "cell_type": "code",
      "source": [
        "def ber_hist(p,n,nps):#p확률의 사건을 n번 시행하는 실험을 nps번 수행\n",
        "  data=[ ber(n,p) for _ in range(nps)]\n",
        "  hist=Counter(data)\n",
        "\n",
        "  mu=n*p#기댓값\n",
        "  sigma=math.sqrt(n*p*(1-p))#표준편차\n",
        "\n",
        "  xs=range(min(data),max(data),1)\n",
        "  ys=[normal_pdf(i,mu,sigma) for i in xs]\n",
        "  plt.bar(hist.keys(),[v/nps for v in hist.values()], color='r')\n",
        "  plt.plot(xs,ys2)\n",
        "  plt.title(\"ber histogram\")\n",
        "  plt.show()\n",
        "  return data"
      ],
      "metadata": {
        "id": "myeqm13qc2eH"
      },
      "execution_count": 57,
      "outputs": []
    },
    {
      "cell_type": "code",
      "source": [
        "ber_hist(1/6,1200,12000)"
      ],
      "metadata": {
        "colab": {
          "base_uri": "https://localhost:8080/",
          "height": 575
        },
        "id": "Db9VM3o-ekXr",
        "outputId": "7816a126-0a96-4227-8a4d-674c83d76beb"
      },
      "execution_count": 58,
      "outputs": [
        {
          "output_type": "error",
          "ename": "ValueError",
          "evalue": "ignored",
          "traceback": [
            "\u001b[0;31m---------------------------------------------------------------------------\u001b[0m",
            "\u001b[0;31mValueError\u001b[0m                                Traceback (most recent call last)",
            "\u001b[0;32m<ipython-input-58-961719815937>\u001b[0m in \u001b[0;36m<module>\u001b[0;34m\u001b[0m\n\u001b[0;32m----> 1\u001b[0;31m \u001b[0mber_hist\u001b[0m\u001b[0;34m(\u001b[0m\u001b[0;36m1\u001b[0m\u001b[0;34m/\u001b[0m\u001b[0;36m6\u001b[0m\u001b[0;34m,\u001b[0m\u001b[0;36m1200\u001b[0m\u001b[0;34m,\u001b[0m\u001b[0;36m12000\u001b[0m\u001b[0;34m)\u001b[0m\u001b[0;34m\u001b[0m\u001b[0;34m\u001b[0m\u001b[0m\n\u001b[0m",
            "\u001b[0;32m<ipython-input-57-61da613965d3>\u001b[0m in \u001b[0;36mber_hist\u001b[0;34m(p, n, nps)\u001b[0m\n\u001b[1;32m      9\u001b[0m   \u001b[0mys\u001b[0m\u001b[0;34m=\u001b[0m\u001b[0;34m[\u001b[0m\u001b[0mnormal_pdf\u001b[0m\u001b[0;34m(\u001b[0m\u001b[0mi\u001b[0m\u001b[0;34m,\u001b[0m\u001b[0mmu\u001b[0m\u001b[0;34m,\u001b[0m\u001b[0msigma\u001b[0m\u001b[0;34m)\u001b[0m \u001b[0;32mfor\u001b[0m \u001b[0mi\u001b[0m \u001b[0;32min\u001b[0m \u001b[0mxs\u001b[0m\u001b[0;34m]\u001b[0m\u001b[0;34m\u001b[0m\u001b[0;34m\u001b[0m\u001b[0m\n\u001b[1;32m     10\u001b[0m   \u001b[0mplt\u001b[0m\u001b[0;34m.\u001b[0m\u001b[0mbar\u001b[0m\u001b[0;34m(\u001b[0m\u001b[0mhist\u001b[0m\u001b[0;34m.\u001b[0m\u001b[0mkeys\u001b[0m\u001b[0;34m(\u001b[0m\u001b[0;34m)\u001b[0m\u001b[0;34m,\u001b[0m\u001b[0;34m[\u001b[0m\u001b[0mv\u001b[0m\u001b[0;34m/\u001b[0m\u001b[0mnps\u001b[0m \u001b[0;32mfor\u001b[0m \u001b[0mv\u001b[0m \u001b[0;32min\u001b[0m \u001b[0mhist\u001b[0m\u001b[0;34m.\u001b[0m\u001b[0mvalues\u001b[0m\u001b[0;34m(\u001b[0m\u001b[0;34m)\u001b[0m\u001b[0;34m]\u001b[0m\u001b[0;34m,\u001b[0m \u001b[0mcolor\u001b[0m\u001b[0;34m=\u001b[0m\u001b[0;34m'r'\u001b[0m\u001b[0;34m)\u001b[0m\u001b[0;34m\u001b[0m\u001b[0;34m\u001b[0m\u001b[0m\n\u001b[0;32m---> 11\u001b[0;31m   \u001b[0mplt\u001b[0m\u001b[0;34m.\u001b[0m\u001b[0mplot\u001b[0m\u001b[0;34m(\u001b[0m\u001b[0mxs\u001b[0m\u001b[0;34m,\u001b[0m\u001b[0mys2\u001b[0m\u001b[0;34m)\u001b[0m\u001b[0;34m\u001b[0m\u001b[0;34m\u001b[0m\u001b[0m\n\u001b[0m\u001b[1;32m     12\u001b[0m   \u001b[0mplt\u001b[0m\u001b[0;34m.\u001b[0m\u001b[0mtitle\u001b[0m\u001b[0;34m(\u001b[0m\u001b[0;34m\"ber histogram\"\u001b[0m\u001b[0;34m)\u001b[0m\u001b[0;34m\u001b[0m\u001b[0;34m\u001b[0m\u001b[0m\n\u001b[1;32m     13\u001b[0m   \u001b[0mplt\u001b[0m\u001b[0;34m.\u001b[0m\u001b[0mshow\u001b[0m\u001b[0;34m(\u001b[0m\u001b[0;34m)\u001b[0m\u001b[0;34m\u001b[0m\u001b[0;34m\u001b[0m\u001b[0m\n",
            "\u001b[0;32m/usr/local/lib/python3.7/dist-packages/matplotlib/pyplot.py\u001b[0m in \u001b[0;36mplot\u001b[0;34m(scalex, scaley, data, *args, **kwargs)\u001b[0m\n\u001b[1;32m   2761\u001b[0m     return gca().plot(\n\u001b[1;32m   2762\u001b[0m         *args, scalex=scalex, scaley=scaley, **({\"data\": data} if data\n\u001b[0;32m-> 2763\u001b[0;31m         is not None else {}), **kwargs)\n\u001b[0m\u001b[1;32m   2764\u001b[0m \u001b[0;34m\u001b[0m\u001b[0m\n\u001b[1;32m   2765\u001b[0m \u001b[0;34m\u001b[0m\u001b[0m\n",
            "\u001b[0;32m/usr/local/lib/python3.7/dist-packages/matplotlib/axes/_axes.py\u001b[0m in \u001b[0;36mplot\u001b[0;34m(self, scalex, scaley, data, *args, **kwargs)\u001b[0m\n\u001b[1;32m   1645\u001b[0m         \"\"\"\n\u001b[1;32m   1646\u001b[0m         \u001b[0mkwargs\u001b[0m \u001b[0;34m=\u001b[0m \u001b[0mcbook\u001b[0m\u001b[0;34m.\u001b[0m\u001b[0mnormalize_kwargs\u001b[0m\u001b[0;34m(\u001b[0m\u001b[0mkwargs\u001b[0m\u001b[0;34m,\u001b[0m \u001b[0mmlines\u001b[0m\u001b[0;34m.\u001b[0m\u001b[0mLine2D\u001b[0m\u001b[0;34m)\u001b[0m\u001b[0;34m\u001b[0m\u001b[0;34m\u001b[0m\u001b[0m\n\u001b[0;32m-> 1647\u001b[0;31m         \u001b[0mlines\u001b[0m \u001b[0;34m=\u001b[0m \u001b[0;34m[\u001b[0m\u001b[0;34m*\u001b[0m\u001b[0mself\u001b[0m\u001b[0;34m.\u001b[0m\u001b[0m_get_lines\u001b[0m\u001b[0;34m(\u001b[0m\u001b[0;34m*\u001b[0m\u001b[0margs\u001b[0m\u001b[0;34m,\u001b[0m \u001b[0mdata\u001b[0m\u001b[0;34m=\u001b[0m\u001b[0mdata\u001b[0m\u001b[0;34m,\u001b[0m \u001b[0;34m**\u001b[0m\u001b[0mkwargs\u001b[0m\u001b[0;34m)\u001b[0m\u001b[0;34m]\u001b[0m\u001b[0;34m\u001b[0m\u001b[0;34m\u001b[0m\u001b[0m\n\u001b[0m\u001b[1;32m   1648\u001b[0m         \u001b[0;32mfor\u001b[0m \u001b[0mline\u001b[0m \u001b[0;32min\u001b[0m \u001b[0mlines\u001b[0m\u001b[0;34m:\u001b[0m\u001b[0;34m\u001b[0m\u001b[0;34m\u001b[0m\u001b[0m\n\u001b[1;32m   1649\u001b[0m             \u001b[0mself\u001b[0m\u001b[0;34m.\u001b[0m\u001b[0madd_line\u001b[0m\u001b[0;34m(\u001b[0m\u001b[0mline\u001b[0m\u001b[0;34m)\u001b[0m\u001b[0;34m\u001b[0m\u001b[0;34m\u001b[0m\u001b[0m\n",
            "\u001b[0;32m/usr/local/lib/python3.7/dist-packages/matplotlib/axes/_base.py\u001b[0m in \u001b[0;36m__call__\u001b[0;34m(self, *args, **kwargs)\u001b[0m\n\u001b[1;32m    214\u001b[0m                 \u001b[0mthis\u001b[0m \u001b[0;34m+=\u001b[0m \u001b[0margs\u001b[0m\u001b[0;34m[\u001b[0m\u001b[0;36m0\u001b[0m\u001b[0;34m]\u001b[0m\u001b[0;34m,\u001b[0m\u001b[0;34m\u001b[0m\u001b[0;34m\u001b[0m\u001b[0m\n\u001b[1;32m    215\u001b[0m                 \u001b[0margs\u001b[0m \u001b[0;34m=\u001b[0m \u001b[0margs\u001b[0m\u001b[0;34m[\u001b[0m\u001b[0;36m1\u001b[0m\u001b[0;34m:\u001b[0m\u001b[0;34m]\u001b[0m\u001b[0;34m\u001b[0m\u001b[0;34m\u001b[0m\u001b[0m\n\u001b[0;32m--> 216\u001b[0;31m             \u001b[0;32myield\u001b[0m \u001b[0;32mfrom\u001b[0m \u001b[0mself\u001b[0m\u001b[0;34m.\u001b[0m\u001b[0m_plot_args\u001b[0m\u001b[0;34m(\u001b[0m\u001b[0mthis\u001b[0m\u001b[0;34m,\u001b[0m \u001b[0mkwargs\u001b[0m\u001b[0;34m)\u001b[0m\u001b[0;34m\u001b[0m\u001b[0;34m\u001b[0m\u001b[0m\n\u001b[0m\u001b[1;32m    217\u001b[0m \u001b[0;34m\u001b[0m\u001b[0m\n\u001b[1;32m    218\u001b[0m     \u001b[0;32mdef\u001b[0m \u001b[0mget_next_color\u001b[0m\u001b[0;34m(\u001b[0m\u001b[0mself\u001b[0m\u001b[0;34m)\u001b[0m\u001b[0;34m:\u001b[0m\u001b[0;34m\u001b[0m\u001b[0;34m\u001b[0m\u001b[0m\n",
            "\u001b[0;32m/usr/local/lib/python3.7/dist-packages/matplotlib/axes/_base.py\u001b[0m in \u001b[0;36m_plot_args\u001b[0;34m(self, tup, kwargs)\u001b[0m\n\u001b[1;32m    340\u001b[0m \u001b[0;34m\u001b[0m\u001b[0m\n\u001b[1;32m    341\u001b[0m         \u001b[0;32mif\u001b[0m \u001b[0mx\u001b[0m\u001b[0;34m.\u001b[0m\u001b[0mshape\u001b[0m\u001b[0;34m[\u001b[0m\u001b[0;36m0\u001b[0m\u001b[0;34m]\u001b[0m \u001b[0;34m!=\u001b[0m \u001b[0my\u001b[0m\u001b[0;34m.\u001b[0m\u001b[0mshape\u001b[0m\u001b[0;34m[\u001b[0m\u001b[0;36m0\u001b[0m\u001b[0;34m]\u001b[0m\u001b[0;34m:\u001b[0m\u001b[0;34m\u001b[0m\u001b[0;34m\u001b[0m\u001b[0m\n\u001b[0;32m--> 342\u001b[0;31m             raise ValueError(f\"x and y must have same first dimension, but \"\n\u001b[0m\u001b[1;32m    343\u001b[0m                              f\"have shapes {x.shape} and {y.shape}\")\n\u001b[1;32m    344\u001b[0m         \u001b[0;32mif\u001b[0m \u001b[0mx\u001b[0m\u001b[0;34m.\u001b[0m\u001b[0mndim\u001b[0m \u001b[0;34m>\u001b[0m \u001b[0;36m2\u001b[0m \u001b[0;32mor\u001b[0m \u001b[0my\u001b[0m\u001b[0;34m.\u001b[0m\u001b[0mndim\u001b[0m \u001b[0;34m>\u001b[0m \u001b[0;36m2\u001b[0m\u001b[0;34m:\u001b[0m\u001b[0;34m\u001b[0m\u001b[0;34m\u001b[0m\u001b[0m\n",
            "\u001b[0;31mValueError\u001b[0m: x and y must have same first dimension, but have shapes (99,) and (101,)"
          ]
        },
        {
          "output_type": "display_data",
          "data": {
            "text/plain": [
              "<Figure size 432x288 with 1 Axes>"
            ],
            "image/png": "[encoded data removed]"
          },
          "metadata": {
            "needs_background": "light"
          }
        }
      ]
    },
    {
      "cell_type": "code",
      "source": [],
      "metadata": {
        "id": "1n99MSiqeq7K"
      },
      "execution_count": null,
      "outputs": []
    }
  ]
}