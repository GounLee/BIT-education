{
  "nbformat": 4,
  "nbformat_minor": 0,
  "metadata": {
    "colab": {
      "provenance": [],
      "authorship_tag": "ABX9TyN0TgvBxoeBpza/5dIJi8jw",
      "include_colab_link": true
    },
    "kernelspec": {
      "name": "python3",
      "display_name": "Python 3"
    },
    "language_info": {
      "name": "python"
    }
  },
  "cells": [
    {
      "cell_type": "markdown",
      "metadata": {
        "id": "view-in-github",
        "colab_type": "text"
      },
      "source": [
        "<a href=\"https://colab.research.google.com/github/GounLee/BIT-education/blob/master/%EB%B9%84%ED%8A%B8_%EB%B9%85%EB%8D%B0%EC%9D%B4%ED%84%B0_%EC%88%98%EC%A7%91_%EB%B6%84%EC%84%9D_%EC%8B%9C%EA%B0%81%ED%99%9401.ipynb\" target=\"_parent\"><img src=\"https://colab.research.google.com/assets/colab-badge.svg\" alt=\"Open In Colab\"/></a>"
      ]
    },
    {
      "cell_type": "markdown",
      "source": [],
      "metadata": {
        "id": "6u_1pBKorv-S"
      }
    },
    {
      "cell_type": "code",
      "source": [
        "#numpy 모듈을 사용하기 위한 import문\n",
        "import numpy as np"
      ],
      "metadata": {
        "id": "TFqIovjZtn4S"
      },
      "execution_count": null,
      "outputs": []
    },
    {
      "cell_type": "code",
      "source": [
        "ls = [1,2,3,4,5]\n",
        "arr=np.array(ls)\n",
        "print(arr)\n",
        "print(type(arr)) #다차원"
      ],
      "metadata": {
        "colab": {
          "base_uri": "https://localhost:8080/"
        },
        "id": "Y4fFaFWgt0wJ",
        "outputId": "7937b44a-e69b-46f4-9bcb-135e65cc8326"
      },
      "execution_count": null,
      "outputs": [
        {
          "output_type": "stream",
          "name": "stdout",
          "text": [
            "[1 2 3 4 5]\n",
            "<class 'numpy.ndarray'>\n"
          ]
        }
      ]
    },
    {
      "cell_type": "code",
      "source": [
        "ls1=[1,2,3]\n",
        "ls2=[4,7,2]\n",
        "ls3=ls1+ls2\n",
        "print(ls3)#파이썬 리스트의 함은 concat"
      ],
      "metadata": {
        "colab": {
          "base_uri": "https://localhost:8080/"
        },
        "id": "fBHHOjUdt2Ep",
        "outputId": "c549defa-d51e-4dff-8e39-7df6b95e9061"
      },
      "execution_count": null,
      "outputs": [
        {
          "output_type": "stream",
          "name": "stdout",
          "text": [
            "[1, 2, 3, 4, 7, 2]\n"
          ]
        }
      ]
    },
    {
      "cell_type": "code",
      "source": [
        "arr1=np.array(ls1)\n",
        "arr2=np.array(ls2)\n",
        "arr3=arr1+arr2\n",
        "print(arr3)#numpy의 +연산은 행렬의 +연산을 수행"
      ],
      "metadata": {
        "colab": {
          "base_uri": "https://localhost:8080/"
        },
        "id": "pdzTInhtvryJ",
        "outputId": "64040d26-3dc7-425c-e483-973893c1b554"
      },
      "execution_count": null,
      "outputs": [
        {
          "output_type": "stream",
          "name": "stdout",
          "text": [
            "[5 9 5]\n"
          ]
        }
      ]
    },
    {
      "cell_type": "code",
      "source": [
        "ls=[1,2,3]\n",
        "ls2=ls*3\n",
        "print(ls2)#리스트*수는 원소를 반복해서 나열"
      ],
      "metadata": {
        "colab": {
          "base_uri": "https://localhost:8080/"
        },
        "id": "zSG6_RUQwCDQ",
        "outputId": "a6c3cd22-913b-4e6e-c74f-6300604421d5"
      },
      "execution_count": null,
      "outputs": [
        {
          "output_type": "stream",
          "name": "stdout",
          "text": [
            "[1, 2, 3, 1, 2, 3, 1, 2, 3]\n"
          ]
        }
      ]
    },
    {
      "cell_type": "code",
      "source": [
        "arr=np.array(ls)\n",
        "arr2= arr*3\n",
        "print(arr2) #numpy의 ndarray*정수는 행렬*정수 연산을 수행"
      ],
      "metadata": {
        "colab": {
          "base_uri": "https://localhost:8080/"
        },
        "id": "L_j8wg1qwZga",
        "outputId": "3f05ceda-af54-4bdd-f81c-701781a8593e"
      },
      "execution_count": null,
      "outputs": [
        {
          "output_type": "stream",
          "name": "stdout",
          "text": [
            "[3 6 9]\n"
          ]
        }
      ]
    },
    {
      "cell_type": "markdown",
      "source": [
        "%%time을 마킹하면 수행시간을 측정해줍니다."
      ],
      "metadata": {
        "id": "-sIRGgx437MB"
      }
    },
    {
      "cell_type": "code",
      "source": [
        "%%time\n",
        "arr=np.arange(100000)"
      ],
      "metadata": {
        "colab": {
          "base_uri": "https://localhost:8080/"
        },
        "id": "jlET-l720mAw",
        "outputId": "ce88a994-ae63-4e7c-89fe-714c09f47bda"
      },
      "execution_count": null,
      "outputs": [
        {
          "output_type": "stream",
          "name": "stdout",
          "text": [
            "CPU times: user 803 µs, sys: 0 ns, total: 803 µs\n",
            "Wall time: 865 µs\n"
          ]
        }
      ]
    },
    {
      "cell_type": "code",
      "source": [
        "%%time\n",
        "ls=list(range(100000))"
      ],
      "metadata": {
        "colab": {
          "base_uri": "https://localhost:8080/"
        },
        "id": "e-p4xPOw3ihI",
        "outputId": "24276d76-8100-4053-ac83-9e4210161272"
      },
      "execution_count": null,
      "outputs": [
        {
          "output_type": "stream",
          "name": "stdout",
          "text": [
            "CPU times: user 1.98 ms, sys: 3.29 ms, total: 5.27 ms\n",
            "Wall time: 5.14 ms\n"
          ]
        }
      ]
    },
    {
      "cell_type": "code",
      "source": [
        "arr=np.random.randn(2,3)\n",
        "print(arr)"
      ],
      "metadata": {
        "colab": {
          "base_uri": "https://localhost:8080/"
        },
        "id": "w1rYB0sU4QWx",
        "outputId": "1d9d9042-609c-408f-8335-9d30005f029f"
      },
      "execution_count": null,
      "outputs": [
        {
          "output_type": "stream",
          "name": "stdout",
          "text": [
            "[[ 0.05129779  0.48129173 -0.34008338]\n",
            " [-1.01080238 -1.2968901   0.88179944]]\n"
          ]
        }
      ]
    },
    {
      "cell_type": "code",
      "source": [
        "arr2=arr*3\n",
        "arr2"
      ],
      "metadata": {
        "colab": {
          "base_uri": "https://localhost:8080/"
        },
        "id": "Mxp5evZK42V3",
        "outputId": "a76f89b8-4c74-45f1-8ef5-5b5e89e953e9"
      },
      "execution_count": null,
      "outputs": [
        {
          "output_type": "execute_result",
          "data": {
            "text/plain": [
              "array([[ 0.15389337,  1.44387519, -1.02025015],\n",
              "       [-3.03240715, -3.89067029,  2.64539833]])"
            ]
          },
          "metadata": {},
          "execution_count": 12
        }
      ]
    },
    {
      "cell_type": "code",
      "source": [
        "arr*3 #위와 같은 표현"
      ],
      "metadata": {
        "colab": {
          "base_uri": "https://localhost:8080/"
        },
        "id": "TYgQ8OyQ4toX",
        "outputId": "427efac1-d902-45a3-9966-ce0261a75159"
      },
      "execution_count": null,
      "outputs": [
        {
          "output_type": "execute_result",
          "data": {
            "text/plain": [
              "array([[ 0.15389337,  1.44387519, -1.02025015],\n",
              "       [-3.03240715, -3.89067029,  2.64539833]])"
            ]
          },
          "metadata": {},
          "execution_count": 11
        }
      ]
    },
    {
      "cell_type": "code",
      "source": [
        "arr.shape #구조 확인 2행 3열"
      ],
      "metadata": {
        "colab": {
          "base_uri": "https://localhost:8080/"
        },
        "id": "f9RoHxgn5Kc_",
        "outputId": "c0cf17ab-6191-4383-a2f8-53eb9bd81576"
      },
      "execution_count": null,
      "outputs": [
        {
          "output_type": "execute_result",
          "data": {
            "text/plain": [
              "(2, 3)"
            ]
          },
          "metadata": {},
          "execution_count": 13
        }
      ]
    },
    {
      "cell_type": "code",
      "source": [
        "arr.ndim #차원 확인"
      ],
      "metadata": {
        "colab": {
          "base_uri": "https://localhost:8080/"
        },
        "id": "zMMyCk-25TkP",
        "outputId": "6dba6753-0b69-42ae-c7c5-d5f1766aff19"
      },
      "execution_count": null,
      "outputs": [
        {
          "output_type": "execute_result",
          "data": {
            "text/plain": [
              "2"
            ]
          },
          "metadata": {},
          "execution_count": 14
        }
      ]
    },
    {
      "cell_type": "code",
      "source": [
        "arr.dtype #원소 타입 확인"
      ],
      "metadata": {
        "colab": {
          "base_uri": "https://localhost:8080/"
        },
        "id": "2sj91bKQ5YZY",
        "outputId": "a44cf381-ef3b-4bf9-fd99-0cea663dc703"
      },
      "execution_count": null,
      "outputs": [
        {
          "output_type": "execute_result",
          "data": {
            "text/plain": [
              "dtype('float64')"
            ]
          },
          "metadata": {},
          "execution_count": 15
        }
      ]
    },
    {
      "cell_type": "code",
      "source": [
        "arr=np.array([1,2,3])\n",
        "print(arr)\n",
        "print(arr.dtype)"
      ],
      "metadata": {
        "colab": {
          "base_uri": "https://localhost:8080/"
        },
        "id": "_PoZXDTn5j1v",
        "outputId": "8974b22a-eba8-4851-e030-5881b111c29f"
      },
      "execution_count": null,
      "outputs": [
        {
          "output_type": "stream",
          "name": "stdout",
          "text": [
            "[1 2 3]\n",
            "int64\n"
          ]
        }
      ]
    },
    {
      "cell_type": "code",
      "source": [
        "arr=np.array([1,2,3,4.2]) #정수와 실수로 배열을 생성 => 자동으로 실수타입으로 변환\n",
        "print(arr)\n",
        "print(arr.dtype)\n",
        "print(type(arr[0]))"
      ],
      "metadata": {
        "colab": {
          "base_uri": "https://localhost:8080/"
        },
        "id": "CETQKBTj51zf",
        "outputId": "523b61ab-0b2e-447b-d1ee-6cd498974461"
      },
      "execution_count": null,
      "outputs": [
        {
          "output_type": "stream",
          "name": "stdout",
          "text": [
            "[1.  2.  3.  4.2]\n",
            "float64\n",
            "<class 'numpy.float64'>\n"
          ]
        }
      ]
    },
    {
      "cell_type": "code",
      "source": [
        "arr=np.array([1,2,3,4.2,'a']) #수와 문자열로 구성 => 자동으로 모두 문자열로 변환\n",
        "print(arr)\n",
        "print(arr.dtype)\n",
        "print(type(arr[0]))"
      ],
      "metadata": {
        "colab": {
          "base_uri": "https://localhost:8080/"
        },
        "id": "lqF5ICYG6TNB",
        "outputId": "5569aa8f-3760-4973-bc06-486887fce427"
      },
      "execution_count": null,
      "outputs": [
        {
          "output_type": "stream",
          "name": "stdout",
          "text": [
            "['1' '2' '3' '4.2' 'a']\n",
            "<U32\n",
            "<class 'numpy.str_'>\n"
          ]
        }
      ]
    },
    {
      "cell_type": "markdown",
      "source": [
        "다차원 배열 생성"
      ],
      "metadata": {
        "id": "Vpbo_bRL64If"
      }
    },
    {
      "cell_type": "code",
      "source": [
        "ls=[1,2,3]\n",
        "arr=np.array(ls) #리스트를 입력 인자로 ndarray 개체 생성\n",
        "print(arr)\n",
        "print(type(arr))"
      ],
      "metadata": {
        "colab": {
          "base_uri": "https://localhost:8080/"
        },
        "id": "q9xbmPwo61hR",
        "outputId": "215001b7-2e28-433c-b285-280d637cbc89"
      },
      "execution_count": null,
      "outputs": [
        {
          "output_type": "stream",
          "name": "stdout",
          "text": [
            "[1 2 3]\n",
            "<class 'numpy.ndarray'>\n"
          ]
        }
      ]
    },
    {
      "cell_type": "code",
      "source": [
        "ls=[[1,2,3],[2,5,6]]\n",
        "arr=np.array(ls) #리스트를 입력 인자로 ndarray 개체 생성\n",
        "print(arr)\n",
        "print(type(arr))"
      ],
      "metadata": {
        "colab": {
          "base_uri": "https://localhost:8080/"
        },
        "id": "WGdVcTaV7Pqv",
        "outputId": "1fd26b18-ec0d-401f-ec5b-99e2842eed7b"
      },
      "execution_count": null,
      "outputs": [
        {
          "output_type": "stream",
          "name": "stdout",
          "text": [
            "[[1 2 3]\n",
            " [2 5 6]]\n",
            "<class 'numpy.ndarray'>\n"
          ]
        }
      ]
    },
    {
      "cell_type": "code",
      "source": [
        "arr=np.zeros(10)\n",
        "print(arr)\n",
        "print(\"구조:\",arr.shape)\n",
        "print(\"차원:\",arr.ndim)\n",
        "print(\"원소 형식:\",arr.dtype)"
      ],
      "metadata": {
        "colab": {
          "base_uri": "https://localhost:8080/"
        },
        "id": "ldT85dSs7Y9o",
        "outputId": "8615a1a4-e997-426b-e55f-f85c30935e38"
      },
      "execution_count": null,
      "outputs": [
        {
          "output_type": "stream",
          "name": "stdout",
          "text": [
            "[0. 0. 0. 0. 0. 0. 0. 0. 0. 0.]\n",
            "구조: (10,)\n",
            "차원: 1\n",
            "원소 형식: float64\n"
          ]
        }
      ]
    },
    {
      "cell_type": "code",
      "source": [
        "arr=np.zeros((3,6))\n",
        "print(arr)\n",
        "print(\"구조:\",arr.shape)\n",
        "print(\"차원:\",arr.ndim)\n",
        "print(\"원소 형식:\",arr.dtype)"
      ],
      "metadata": {
        "colab": {
          "base_uri": "https://localhost:8080/"
        },
        "id": "dki3ed3T9Lhu",
        "outputId": "d8a74551-f01a-46f7-e854-dabccfc82692"
      },
      "execution_count": null,
      "outputs": [
        {
          "output_type": "stream",
          "name": "stdout",
          "text": [
            "[[0. 0. 0. 0. 0. 0.]\n",
            " [0. 0. 0. 0. 0. 0.]\n",
            " [0. 0. 0. 0. 0. 0.]]\n",
            "구조: (3, 6)\n",
            "차원: 2\n",
            "원소 형식: float64\n"
          ]
        }
      ]
    },
    {
      "cell_type": "code",
      "source": [
        "arr=np.ones((3,6))\n",
        "print(arr)\n",
        "print(\"구조:\",arr.shape)\n",
        "print(\"차원:\",arr.ndim)\n",
        "print(\"원소 형식:\",arr.dtype)"
      ],
      "metadata": {
        "colab": {
          "base_uri": "https://localhost:8080/"
        },
        "id": "DJkWKZEp74Tv",
        "outputId": "41e76d88-bbe3-4063-98fb-a28a99d0b14e"
      },
      "execution_count": null,
      "outputs": [
        {
          "output_type": "stream",
          "name": "stdout",
          "text": [
            "[[1. 1. 1. 1. 1. 1.]\n",
            " [1. 1. 1. 1. 1. 1.]\n",
            " [1. 1. 1. 1. 1. 1.]]\n",
            "구조: (3, 6)\n",
            "차원: 2\n",
            "원소 형식: float64\n"
          ]
        }
      ]
    },
    {
      "cell_type": "code",
      "source": [
        "arr=np.arange(20)\n",
        "print(arr)\n",
        "print(\"구조:\",arr.shape)\n",
        "print(\"차원:\",arr.ndim)\n",
        "print(\"원소 형식:\",arr.dtype)"
      ],
      "metadata": {
        "colab": {
          "base_uri": "https://localhost:8080/"
        },
        "id": "6yzBeSCP8qaX",
        "outputId": "efecd003-ac86-42b2-e695-99787a0f5281"
      },
      "execution_count": null,
      "outputs": [
        {
          "output_type": "stream",
          "name": "stdout",
          "text": [
            "[ 0  1  2  3  4  5  6  7  8  9 10 11 12 13 14 15 16 17 18 19]\n",
            "구조: (20,)\n",
            "차원: 1\n",
            "원소 형식: int64\n"
          ]
        }
      ]
    },
    {
      "cell_type": "code",
      "source": [
        "arr=np.arange(3,20,4)\n",
        "print(arr)\n",
        "print(\"구조:\",arr.shape)\n",
        "print(\"차원:\",arr.ndim)\n",
        "print(\"원소 형식:\",arr.dtype)"
      ],
      "metadata": {
        "colab": {
          "base_uri": "https://localhost:8080/"
        },
        "id": "K7Pc2TH98k_v",
        "outputId": "8ef7f24a-c76c-4f68-c540-5887e90bd488"
      },
      "execution_count": null,
      "outputs": [
        {
          "output_type": "stream",
          "name": "stdout",
          "text": [
            "[ 3  7 11 15 19]\n",
            "구조: (5,)\n",
            "차원: 1\n",
            "원소 형식: int64\n"
          ]
        }
      ]
    },
    {
      "cell_type": "markdown",
      "source": [
        "원소 타입"
      ],
      "metadata": {
        "id": "p8nbbMaRBsEW"
      }
    },
    {
      "cell_type": "code",
      "source": [
        "arr=np.array([1,2,3])\n",
        "print(type(arr[0]),type(arr[1]),type(arr[2]))\n",
        "print(arr.dtype)"
      ],
      "metadata": {
        "colab": {
          "base_uri": "https://localhost:8080/"
        },
        "id": "YhoC0TGOBrg2",
        "outputId": "95431ea3-7d5c-45e8-a12e-dd5e9b7b49b2"
      },
      "execution_count": null,
      "outputs": [
        {
          "output_type": "stream",
          "name": "stdout",
          "text": [
            "<class 'numpy.int64'> <class 'numpy.int64'> <class 'numpy.int64'>\n",
            "int64\n"
          ]
        }
      ]
    },
    {
      "cell_type": "code",
      "source": [
        "arr=np.array([1,2,4.2])\n",
        "print(type(arr[0]),type(arr[1]),type(arr[2]))\n",
        "print(arr.dtype)"
      ],
      "metadata": {
        "colab": {
          "base_uri": "https://localhost:8080/"
        },
        "id": "TAzwOt9qCAL-",
        "outputId": "0345cb1d-57f8-4eb7-d7af-14c6a0343a28"
      },
      "execution_count": null,
      "outputs": [
        {
          "output_type": "stream",
          "name": "stdout",
          "text": [
            "<class 'numpy.float64'> <class 'numpy.float64'> <class 'numpy.float64'>\n",
            "float64\n"
          ]
        }
      ]
    },
    {
      "cell_type": "code",
      "source": [
        "arr=np.array([1,2,4.2],dtype=np.int32)#dtype인자를 이용하여 명시적으로 원소 형식 결정\n",
        "print(type(arr[0]),type(arr[1]),type(arr[2]))\n",
        "print(arr.dtype)\n",
        "print(arr)"
      ],
      "metadata": {
        "colab": {
          "base_uri": "https://localhost:8080/"
        },
        "id": "FC5rW4WOCHk2",
        "outputId": "97b5c5b7-6e3e-4f06-b6da-c9ec920aa3a8"
      },
      "execution_count": null,
      "outputs": [
        {
          "output_type": "stream",
          "name": "stdout",
          "text": [
            "<class 'numpy.int32'> <class 'numpy.int32'> <class 'numpy.int32'>\n",
            "int32\n",
            "[1 2 4]\n"
          ]
        }
      ]
    },
    {
      "cell_type": "markdown",
      "source": [
        "산술연산"
      ],
      "metadata": {
        "id": "vXjN3NZ7ChUF"
      }
    },
    {
      "cell_type": "code",
      "source": [
        "arr=np.array([[1,2,3],[4,5,6]])\n",
        "print(arr)\n",
        "print(\"==========\")\n",
        "arr2=arr*arr\n",
        "print(arr2)"
      ],
      "metadata": {
        "colab": {
          "base_uri": "https://localhost:8080/"
        },
        "id": "Z3vQmaldCj_p",
        "outputId": "18b7ab7a-74d4-4b29-bd74-4479abf79468"
      },
      "execution_count": null,
      "outputs": [
        {
          "output_type": "stream",
          "name": "stdout",
          "text": [
            "[[1 2 3]\n",
            " [4 5 6]]\n",
            "==========\n",
            "[[ 1  4  9]\n",
            " [16 25 36]]\n"
          ]
        }
      ]
    },
    {
      "cell_type": "code",
      "source": [
        "arr2=arr-arr\n",
        "print(arr2)"
      ],
      "metadata": {
        "colab": {
          "base_uri": "https://localhost:8080/"
        },
        "id": "LMfbc5FJDFLm",
        "outputId": "d721eb93-75d7-4d58-9979-653bf1b569c5"
      },
      "execution_count": null,
      "outputs": [
        {
          "output_type": "stream",
          "name": "stdout",
          "text": [
            "[[0 0 0]\n",
            " [0 0 0]]\n"
          ]
        }
      ]
    },
    {
      "cell_type": "code",
      "source": [
        "arr2=1/arr\n",
        "print(arr2)"
      ],
      "metadata": {
        "colab": {
          "base_uri": "https://localhost:8080/"
        },
        "id": "ZeRmGx-KDKpl",
        "outputId": "f9dbef7f-7195-409e-91d8-26a0b6f06411"
      },
      "execution_count": null,
      "outputs": [
        {
          "output_type": "stream",
          "name": "stdout",
          "text": [
            "[[1.         0.5        0.33333333]\n",
            " [0.25       0.2        0.16666667]]\n"
          ]
        }
      ]
    },
    {
      "cell_type": "code",
      "source": [
        "arr2=arr**0.5\n",
        "print(arr2)"
      ],
      "metadata": {
        "colab": {
          "base_uri": "https://localhost:8080/"
        },
        "id": "-JVLTEhIDSZP",
        "outputId": "0c3412d7-f271-41df-bd12-be2103604a85"
      },
      "execution_count": null,
      "outputs": [
        {
          "output_type": "stream",
          "name": "stdout",
          "text": [
            "[[1.         1.41421356 1.73205081]\n",
            " [2.         2.23606798 2.44948974]]\n"
          ]
        }
      ]
    },
    {
      "cell_type": "code",
      "source": [
        "arr1 = np.array([1,2,3]) # 같은 행끼리 비교해서 > , < 비교 -> True,False \n",
        "arr2 = np.array([4,0,2])\n",
        "fillter = arr1>arr2\n",
        "print(fillter)"
      ],
      "metadata": {
        "colab": {
          "base_uri": "https://localhost:8080/"
        },
        "id": "WITNgcwEDjkF",
        "outputId": "f2625b71-236b-4162-916e-3b1209f1c68d"
      },
      "execution_count": null,
      "outputs": [
        {
          "output_type": "stream",
          "name": "stdout",
          "text": [
            "[False  True  True]\n"
          ]
        }
      ]
    },
    {
      "cell_type": "markdown",
      "source": [
        "색인과 슬라이딩"
      ],
      "metadata": {
        "id": "oGLFGAbOE0Ql"
      }
    },
    {
      "cell_type": "code",
      "source": [
        "arr=np.arange(10000)"
      ],
      "metadata": {
        "id": "5EKwQRDReXmC"
      },
      "execution_count": null,
      "outputs": []
    },
    {
      "cell_type": "code",
      "source": [
        "print(arr[5:8])"
      ],
      "metadata": {
        "colab": {
          "base_uri": "https://localhost:8080/"
        },
        "id": "ufN2IYp-eePZ",
        "outputId": "0ac2058f-3af7-4a7f-87f9-860a33deeb9e"
      },
      "execution_count": null,
      "outputs": [
        {
          "output_type": "stream",
          "name": "stdout",
          "text": [
            "[5 6 7]\n"
          ]
        }
      ]
    },
    {
      "cell_type": "code",
      "source": [
        "print(arr[:8])"
      ],
      "metadata": {
        "colab": {
          "base_uri": "https://localhost:8080/"
        },
        "id": "hIGydevoekZi",
        "outputId": "df828bce-7d8c-4627-c47c-ba3b065187e5"
      },
      "execution_count": null,
      "outputs": [
        {
          "output_type": "stream",
          "name": "stdout",
          "text": [
            "[0 1 2 3 4 5 6 7]\n"
          ]
        }
      ]
    },
    {
      "cell_type": "code",
      "source": [
        "print(arr[995:])"
      ],
      "metadata": {
        "colab": {
          "base_uri": "https://localhost:8080/"
        },
        "id": "BjKAzQy0epyT",
        "outputId": "ef0366f0-7b30-42cc-c72e-b708ddcd207a"
      },
      "execution_count": null,
      "outputs": [
        {
          "output_type": "stream",
          "name": "stdout",
          "text": [
            "[ 995  996  997 ... 9997 9998 9999]\n"
          ]
        }
      ]
    },
    {
      "cell_type": "code",
      "source": [
        "arr=np.zeros(30)\n",
        "print(arr)"
      ],
      "metadata": {
        "colab": {
          "base_uri": "https://localhost:8080/"
        },
        "id": "7jm2oo1tevLh",
        "outputId": "e981c92a-d538-4030-c59e-072682314175"
      },
      "execution_count": null,
      "outputs": [
        {
          "output_type": "stream",
          "name": "stdout",
          "text": [
            "[0. 0. 0. 0. 0. 0. 0. 0. 0. 0. 0. 0. 0. 0. 0. 0. 0. 0. 0. 0. 0. 0. 0. 0.\n",
            " 0. 0. 0. 0. 0. 0.]\n"
          ]
        }
      ]
    },
    {
      "cell_type": "code",
      "source": [
        "arr[5:8]=7\n",
        "print(arr)"
      ],
      "metadata": {
        "colab": {
          "base_uri": "https://localhost:8080/"
        },
        "id": "x1hguuUNE30Y",
        "outputId": "cbe991e7-ef80-421d-d240-f3716c993791"
      },
      "execution_count": null,
      "outputs": [
        {
          "output_type": "stream",
          "name": "stdout",
          "text": [
            "[0. 0. 0. 0. 0. 7. 7. 7. 0. 0. 0. 0. 0. 0. 0. 0. 0. 0. 0. 0. 0. 0. 0. 0.\n",
            " 0. 0. 0. 0. 0. 0.]\n"
          ]
        }
      ]
    },
    {
      "cell_type": "code",
      "source": [
        "arr=np.array([[1,2,3],[4,5,6],[7,8,9]])\n",
        "print(arr)"
      ],
      "metadata": {
        "colab": {
          "base_uri": "https://localhost:8080/"
        },
        "id": "oi9Gp4lEFBkl",
        "outputId": "b2b708a3-25ea-472d-8495-7e965176e3f2"
      },
      "execution_count": null,
      "outputs": [
        {
          "output_type": "stream",
          "name": "stdout",
          "text": [
            "[[1 2 3]\n",
            " [4 5 6]\n",
            " [7 8 9]]\n"
          ]
        }
      ]
    },
    {
      "cell_type": "code",
      "source": [
        "print(arr[0])\n",
        "print(arr[1])\n",
        "print(arr[2])"
      ],
      "metadata": {
        "colab": {
          "base_uri": "https://localhost:8080/"
        },
        "id": "9e1KDHhnFOgN",
        "outputId": "3f4c2bb3-d4ad-4c12-d988-af145b3ef09d"
      },
      "execution_count": null,
      "outputs": [
        {
          "output_type": "stream",
          "name": "stdout",
          "text": [
            "[1 2 3]\n",
            "[4 5 6]\n",
            "[7 8 9]\n"
          ]
        }
      ]
    },
    {
      "cell_type": "code",
      "source": [
        "print(arr[0][2])"
      ],
      "metadata": {
        "colab": {
          "base_uri": "https://localhost:8080/"
        },
        "id": "Ia-y7YpLFU4N",
        "outputId": "5485fb71-aeb6-4e13-b142-424e8a4cfade"
      },
      "execution_count": null,
      "outputs": [
        {
          "output_type": "stream",
          "name": "stdout",
          "text": [
            "3\n"
          ]
        }
      ]
    },
    {
      "cell_type": "code",
      "source": [
        "print(arr[0,2])"
      ],
      "metadata": {
        "colab": {
          "base_uri": "https://localhost:8080/"
        },
        "id": "l5rF7ACEFa_d",
        "outputId": "a6a52c35-ce76-431d-e3f7-ea92bf096b8c"
      },
      "execution_count": null,
      "outputs": [
        {
          "output_type": "stream",
          "name": "stdout",
          "text": [
            "3\n"
          ]
        }
      ]
    },
    {
      "cell_type": "code",
      "source": [
        "#소스 배열을 가지고 간단한 실험을 하기 위해서 복사하여 사용하기\n",
        "cp_arr=arr.copy()\n",
        "print(cp_arr)\n",
        "cp_arr=cp_arr*2\n",
        "print(cp_arr)\n",
        "print(arr)"
      ],
      "metadata": {
        "colab": {
          "base_uri": "https://localhost:8080/"
        },
        "id": "nwdeK1yKFhl2",
        "outputId": "65ec6d78-3d68-457b-cee4-6f2e259885b6"
      },
      "execution_count": null,
      "outputs": [
        {
          "output_type": "stream",
          "name": "stdout",
          "text": [
            "[[1 2 3]\n",
            " [4 5 6]\n",
            " [7 8 9]]\n",
            "[[ 2  4  6]\n",
            " [ 8 10 12]\n",
            " [14 16 18]]\n",
            "[[1 2 3]\n",
            " [4 5 6]\n",
            " [7 8 9]]\n"
          ]
        }
      ]
    },
    {
      "cell_type": "code",
      "source": [
        "cp_arr=arr\n",
        "print(cp_arr)\n",
        "cp_arr=cp_arr*2\n",
        "print(cp_arr)\n",
        "print(arr)"
      ],
      "metadata": {
        "colab": {
          "base_uri": "https://localhost:8080/"
        },
        "id": "zX71jHkKF5B3",
        "outputId": "577923b3-d23d-47c2-988c-d17d6eaf2d91"
      },
      "execution_count": null,
      "outputs": [
        {
          "output_type": "stream",
          "name": "stdout",
          "text": [
            "[[1 2 3]\n",
            " [4 5 6]\n",
            " [7 8 9]]\n",
            "[[ 2  4  6]\n",
            " [ 8 10 12]\n",
            " [14 16 18]]\n",
            "[[1 2 3]\n",
            " [4 5 6]\n",
            " [7 8 9]]\n"
          ]
        }
      ]
    },
    {
      "cell_type": "code",
      "source": [
        "cp_arr=arr.copy()\n",
        "print(cp_arr)\n",
        "cp_arr[0][1]=8\n",
        "print(cp_arr)\n",
        "print(arr)"
      ],
      "metadata": {
        "colab": {
          "base_uri": "https://localhost:8080/"
        },
        "id": "SsxIENsaGUyN",
        "outputId": "4cd07681-b97a-4772-cc8f-c8eb889a0d30"
      },
      "execution_count": null,
      "outputs": [
        {
          "output_type": "stream",
          "name": "stdout",
          "text": [
            "[[1 2 3]\n",
            " [4 5 6]\n",
            " [7 8 9]]\n",
            "[[1 8 3]\n",
            " [4 5 6]\n",
            " [7 8 9]]\n",
            "[[1 2 3]\n",
            " [4 5 6]\n",
            " [7 8 9]]\n"
          ]
        }
      ]
    },
    {
      "cell_type": "code",
      "source": [
        "cp_arr=arr\n",
        "print(cp_arr)\n",
        "cp_arr[0][1]=8\n",
        "print(cp_arr)\n",
        "print(arr)"
      ],
      "metadata": {
        "colab": {
          "base_uri": "https://localhost:8080/"
        },
        "id": "y0mFvMYBGcJZ",
        "outputId": "0b0e6713-f063-40b1-b879-e2c117081fd9"
      },
      "execution_count": null,
      "outputs": [
        {
          "output_type": "stream",
          "name": "stdout",
          "text": [
            "[[1 2 3]\n",
            " [4 5 6]\n",
            " [7 8 9]]\n",
            "[[1 8 3]\n",
            " [4 5 6]\n",
            " [7 8 9]]\n",
            "[[1 8 3]\n",
            " [4 5 6]\n",
            " [7 8 9]]\n"
          ]
        }
      ]
    },
    {
      "cell_type": "code",
      "source": [
        "arr=np.array([1,2,3])\n",
        "\n",
        "filter=arr>=2\n",
        "print(filter)"
      ],
      "metadata": {
        "colab": {
          "base_uri": "https://localhost:8080/"
        },
        "id": "n8fZvTKfHDTd",
        "outputId": "2e1e6a80-d81a-474e-9f83-ec9921dda332"
      },
      "execution_count": null,
      "outputs": [
        {
          "output_type": "stream",
          "name": "stdout",
          "text": [
            "[False  True  True]\n"
          ]
        }
      ]
    },
    {
      "cell_type": "code",
      "source": [
        "res=arr[filter]\n",
        "print(res)"
      ],
      "metadata": {
        "colab": {
          "base_uri": "https://localhost:8080/"
        },
        "id": "4eEr_9tcHQAt",
        "outputId": "09998a46-b1cf-492b-c8d1-b3f7d70cd811"
      },
      "execution_count": null,
      "outputs": [
        {
          "output_type": "stream",
          "name": "stdout",
          "text": [
            "[2 3]\n"
          ]
        }
      ]
    },
    {
      "cell_type": "code",
      "source": [
        "res=arr[~filter]\n",
        "print(res)"
      ],
      "metadata": {
        "colab": {
          "base_uri": "https://localhost:8080/"
        },
        "id": "AszYLPE6HsWd",
        "outputId": "8c657aa9-4668-43db-965d-89354a6715e7"
      },
      "execution_count": null,
      "outputs": [
        {
          "output_type": "stream",
          "name": "stdout",
          "text": [
            "[1]\n"
          ]
        }
      ]
    },
    {
      "cell_type": "markdown",
      "source": [
        "구조변경"
      ],
      "metadata": {
        "id": "aJuNsET3IZJF"
      }
    },
    {
      "cell_type": "code",
      "source": [
        "arr=np.arange(96)\n",
        "print(\"구조:\",arr.shape)\n",
        "print(\"차원:\",arr.ndim)"
      ],
      "metadata": {
        "colab": {
          "base_uri": "https://localhost:8080/"
        },
        "id": "6pOHF7K-H8bP",
        "outputId": "c12a9611-1c6c-4a25-bd3e-4fef5e5e2610"
      },
      "execution_count": null,
      "outputs": [
        {
          "output_type": "stream",
          "name": "stdout",
          "text": [
            "구조: (96,)\n",
            "차원: 1\n"
          ]
        }
      ]
    },
    {
      "cell_type": "code",
      "source": [
        "arr2=arr.reshape((6,16))\n",
        "print(\"구조:\",arr2.shape)\n",
        "print(\"차원:\",arr2.ndim)"
      ],
      "metadata": {
        "colab": {
          "base_uri": "https://localhost:8080/"
        },
        "id": "A4zVq7OxIt-l",
        "outputId": "1e4ce107-5194-4902-9ee4-c7c7f8e1f0b4"
      },
      "execution_count": null,
      "outputs": [
        {
          "output_type": "stream",
          "name": "stdout",
          "text": [
            "구조: (6, 16)\n",
            "차원: 2\n"
          ]
        }
      ]
    },
    {
      "cell_type": "code",
      "source": [
        "#arr2=arr.reshape((7,14))#7*n이 96이 아니라서 오류\n",
        "#print(\"구조:\",arr2.shape)\n",
        "#print(\"차원:\",arr2.ndim)"
      ],
      "metadata": {
        "colab": {
          "base_uri": "https://localhost:8080/",
          "height": 211
        },
        "id": "Nnq7qXYyK7bV",
        "outputId": "ed49aa05-d2f9-4721-fa82-93585986c301"
      },
      "execution_count": null,
      "outputs": [
        {
          "output_type": "error",
          "ename": "ValueError",
          "evalue": "ignored",
          "traceback": [
            "\u001b[0;31m---------------------------------------------------------------------------\u001b[0m",
            "\u001b[0;31mValueError\u001b[0m                                Traceback (most recent call last)",
            "\u001b[0;32m<ipython-input-71-d85c235a6a2a>\u001b[0m in \u001b[0;36m<module>\u001b[0;34m\u001b[0m\n\u001b[0;32m----> 1\u001b[0;31m \u001b[0marr2\u001b[0m\u001b[0;34m=\u001b[0m\u001b[0marr\u001b[0m\u001b[0;34m.\u001b[0m\u001b[0mreshape\u001b[0m\u001b[0;34m(\u001b[0m\u001b[0;34m(\u001b[0m\u001b[0;36m7\u001b[0m\u001b[0;34m,\u001b[0m\u001b[0;36m14\u001b[0m\u001b[0;34m)\u001b[0m\u001b[0;34m)\u001b[0m\u001b[0;34m\u001b[0m\u001b[0;34m\u001b[0m\u001b[0m\n\u001b[0m\u001b[1;32m      2\u001b[0m \u001b[0mprint\u001b[0m\u001b[0;34m(\u001b[0m\u001b[0;34m\"구조:\"\u001b[0m\u001b[0;34m,\u001b[0m\u001b[0marr2\u001b[0m\u001b[0;34m.\u001b[0m\u001b[0mshape\u001b[0m\u001b[0;34m)\u001b[0m\u001b[0;34m\u001b[0m\u001b[0;34m\u001b[0m\u001b[0m\n\u001b[1;32m      3\u001b[0m \u001b[0mprint\u001b[0m\u001b[0;34m(\u001b[0m\u001b[0;34m\"차원:\"\u001b[0m\u001b[0;34m,\u001b[0m\u001b[0marr2\u001b[0m\u001b[0;34m.\u001b[0m\u001b[0mndim\u001b[0m\u001b[0;34m)\u001b[0m\u001b[0;34m\u001b[0m\u001b[0;34m\u001b[0m\u001b[0m\n",
            "\u001b[0;31mValueError\u001b[0m: cannot reshape array of size 6 into shape (7,14)"
          ]
        }
      ]
    },
    {
      "cell_type": "code",
      "source": [
        "arr2=arr.reshape((6,-1))#구조 변경 요청할 때 하나의 차원은 -1로 표현 가능(알아서 계산)\n",
        "print(\"구조:\",arr2.shape)\n",
        "print(\"차원:\",arr2.ndim)"
      ],
      "metadata": {
        "colab": {
          "base_uri": "https://localhost:8080/"
        },
        "id": "CNEwO7ccJIy1",
        "outputId": "3d425079-931f-4a8c-eddb-0fbefbbcba9e"
      },
      "execution_count": null,
      "outputs": [
        {
          "output_type": "stream",
          "name": "stdout",
          "text": [
            "구조: (6, 16)\n",
            "차원: 2\n"
          ]
        }
      ]
    },
    {
      "cell_type": "code",
      "source": [
        "arr=np.array([[1,2,3],[4,5,6]])\n",
        "arr2=arr.T#전치 행렬\n",
        "print(arr)\n",
        "print(\"==================\")\n",
        "print(arr2)"
      ],
      "metadata": {
        "colab": {
          "base_uri": "https://localhost:8080/"
        },
        "id": "0GO1x-cuKUqm",
        "outputId": "d365825f-b7d3-4abd-f244-49e901237db3"
      },
      "execution_count": null,
      "outputs": [
        {
          "output_type": "stream",
          "name": "stdout",
          "text": [
            "[[1 2 3]\n",
            " [4 5 6]]\n",
            "==================\n",
            "[[1 4]\n",
            " [2 5]\n",
            " [3 6]]\n"
          ]
        }
      ]
    },
    {
      "cell_type": "code",
      "source": [
        "arr2=arr.transpose()#arr.T와 같은 결과를 반환\n",
        "print(arr)\n",
        "print(\"========\")\n",
        "print(arr2)"
      ],
      "metadata": {
        "colab": {
          "base_uri": "https://localhost:8080/"
        },
        "id": "neX-JgceJyOs",
        "outputId": "458cf723-fecc-4b15-bf99-c148916e8feb"
      },
      "execution_count": null,
      "outputs": [
        {
          "output_type": "stream",
          "name": "stdout",
          "text": [
            "[[1 2 3]\n",
            " [4 5 6]\n",
            " [7 8 9]]\n",
            "========\n",
            "[[1 4 7]\n",
            " [2 5 8]\n",
            " [3 6 9]]\n"
          ]
        }
      ]
    },
    {
      "cell_type": "code",
      "source": [
        "arr=np.arange(10)\n",
        "print(arr)"
      ],
      "metadata": {
        "colab": {
          "base_uri": "https://localhost:8080/"
        },
        "id": "X7aWB9cuKJj0",
        "outputId": "c5d01f41-3802-4fb3-a102-dc1784c5e4c7"
      },
      "execution_count": null,
      "outputs": [
        {
          "output_type": "stream",
          "name": "stdout",
          "text": [
            "[0 1 2 3 4 5 6 7 8 9]\n"
          ]
        }
      ]
    },
    {
      "cell_type": "code",
      "source": [
        "arr2 = np.sqrt(arr)\n",
        "print(arr2)\n",
        "print(arr)"
      ],
      "metadata": {
        "colab": {
          "base_uri": "https://localhost:8080/"
        },
        "id": "TJSkfWN_KQwM",
        "outputId": "be26b83b-a064-4096-c296-1c878f17e781"
      },
      "execution_count": null,
      "outputs": [
        {
          "output_type": "stream",
          "name": "stdout",
          "text": [
            "[[1.         1.41421356 1.73205081]\n",
            " [2.         2.23606798 2.44948974]\n",
            " [2.64575131 2.82842712 3.        ]]\n",
            "[[1 2 3]\n",
            " [4 5 6]\n",
            " [7 8 9]]\n"
          ]
        }
      ]
    },
    {
      "cell_type": "code",
      "source": [
        "arr1=np.random.randn(2,3)\n",
        "print(arr1)\n",
        "print(\"=======================================\")\n",
        "arr2=np.random.randn(2,3)\n",
        "print(arr2)"
      ],
      "metadata": {
        "colab": {
          "base_uri": "https://localhost:8080/"
        },
        "id": "-75GvmvZL5f9",
        "outputId": "e6aa9464-a01b-493e-daeb-df6e0372fd00"
      },
      "execution_count": null,
      "outputs": [
        {
          "output_type": "stream",
          "name": "stdout",
          "text": [
            "[[-0.00349364 -0.19965909  0.79310464]\n",
            " [ 0.74560392 -0.08969502 -0.91942196]]\n",
            "=======================================\n",
            "[[ 0.33836676  1.14806694  1.21377459]\n",
            " [-1.06915376 -0.127334   -0.01237383]]\n"
          ]
        }
      ]
    },
    {
      "cell_type": "code",
      "source": [
        "arr3=np.maximum(arr1,arr2)\n",
        "print(arr3)"
      ],
      "metadata": {
        "colab": {
          "base_uri": "https://localhost:8080/"
        },
        "id": "0uJACGU0MNg1",
        "outputId": "781eab16-ba35-487e-c950-470210412304"
      },
      "execution_count": null,
      "outputs": [
        {
          "output_type": "stream",
          "name": "stdout",
          "text": [
            "[[ 2.59242395 -0.90571143  0.22451865]\n",
            " [ 1.73983155  1.22611494  0.18638785]]\n"
          ]
        }
      ]
    },
    {
      "cell_type": "markdown",
      "source": [
        "Numpy안으로"
      ],
      "metadata": {
        "id": "c-gLQwv1gXmh"
      }
    },
    {
      "cell_type": "code",
      "source": [
        "#잠시 파이썬 기본 문법 - 리스트 컴프리헨션\n",
        "xs = [x*x+2*x+3 for x in range(1,10)] #리스트 컴프리헨션\n",
        "print(xs)"
      ],
      "metadata": {
        "colab": {
          "base_uri": "https://localhost:8080/"
        },
        "id": "B4_C5j5Rganz",
        "outputId": "3c288ed8-22b0-4256-ee1a-d692ed735bcf"
      },
      "execution_count": null,
      "outputs": [
        {
          "output_type": "stream",
          "name": "stdout",
          "text": [
            "[6, 11, 18, 27, 38, 51, 66, 83, 102]\n"
          ]
        }
      ]
    },
    {
      "cell_type": "code",
      "source": [
        "xs=[]\n",
        "for x in range(1,10):\n",
        "  xs.append(x*x+2*x+3)\n",
        "print(xs)"
      ],
      "metadata": {
        "colab": {
          "base_uri": "https://localhost:8080/"
        },
        "id": "ndwRJOW2g8vY",
        "outputId": "1b89ffcb-add4-403a-a5ed-7783b3dff8cf"
      },
      "execution_count": null,
      "outputs": [
        {
          "output_type": "stream",
          "name": "stdout",
          "text": [
            "[6, 11, 18, 27, 38, 51, 66, 83, 102]\n"
          ]
        }
      ]
    },
    {
      "cell_type": "code",
      "source": [
        "xarr = np.array([1.1,1.2,1.3,1.4,1.5])\n",
        "yarr = np.array([2.1,2.2,2.3,2.4,2.5])\n",
        "cond = np.array([True,False,True,True,False])"
      ],
      "metadata": {
        "id": "mZF9GcT8hdru"
      },
      "execution_count": null,
      "outputs": []
    },
    {
      "cell_type": "code",
      "source": [
        "#파이썬 기초 문법 - zip 사용 예\n",
        "ls1=[1,2,3]\n",
        "ls2=['가','나','다']\n",
        "for e1,e2 in zip(ls1,ls2):\n",
        "  print(e1,e2)"
      ],
      "metadata": {
        "colab": {
          "base_uri": "https://localhost:8080/"
        },
        "id": "cIZGYwNTh1jO",
        "outputId": "81d86c3d-7052-4cc5-fbdd-a781c770f77a"
      },
      "execution_count": null,
      "outputs": [
        {
          "output_type": "stream",
          "name": "stdout",
          "text": [
            "1 가\n",
            "2 나\n",
            "3 다\n"
          ]
        }
      ]
    },
    {
      "cell_type": "code",
      "source": [
        "#리스트 컴프리헨션\n",
        "result = [(x if c else y) for x,y,c in zip(xarr,yarr,cond)]\n",
        "print(result)"
      ],
      "metadata": {
        "colab": {
          "base_uri": "https://localhost:8080/"
        },
        "id": "pAPDmyJoiSdP",
        "outputId": "6cb222a8-38d8-456f-f6a6-702589375534"
      },
      "execution_count": null,
      "outputs": [
        {
          "output_type": "stream",
          "name": "stdout",
          "text": [
            "[1.1, 2.2, 1.3, 1.4, 2.5]\n"
          ]
        }
      ]
    },
    {
      "cell_type": "code",
      "source": [
        "result=[]#위랑 같은거\n",
        "for x,y,c in zip(xarr,yarr,cond):\n",
        "  if c:\n",
        "    result.append(x)\n",
        "  else:\n",
        "    result.append(y)\n",
        "print(result)"
      ],
      "metadata": {
        "colab": {
          "base_uri": "https://localhost:8080/"
        },
        "id": "UFr67t3pjQpK",
        "outputId": "6b9af93f-fcaa-477c-fd13-82a70ccda831"
      },
      "execution_count": null,
      "outputs": [
        {
          "output_type": "stream",
          "name": "stdout",
          "text": [
            "[1.1, 2.2, 1.3, 1.4, 2.5]\n"
          ]
        }
      ]
    },
    {
      "cell_type": "code",
      "source": [
        "result= np.where(cond,xarr,yarr)\n",
        "print(result)"
      ],
      "metadata": {
        "colab": {
          "base_uri": "https://localhost:8080/"
        },
        "id": "FyqofhTpjbrP",
        "outputId": "79cd4008-d6f1-4f46-960c-1af71c3974d0"
      },
      "execution_count": null,
      "outputs": [
        {
          "output_type": "stream",
          "name": "stdout",
          "text": [
            "[1.1 2.2 1.3 1.4 2.5]\n"
          ]
        }
      ]
    },
    {
      "cell_type": "code",
      "source": [
        "result=np.where(cond,1,2)\n",
        "print(result)"
      ],
      "metadata": {
        "colab": {
          "base_uri": "https://localhost:8080/"
        },
        "id": "ctjwVjK9j3LA",
        "outputId": "7b4db37f-56bd-42e1-9e07-66c06cadc55b"
      },
      "execution_count": null,
      "outputs": [
        {
          "output_type": "stream",
          "name": "stdout",
          "text": [
            "[1 2 1 1 2]\n"
          ]
        }
      ]
    },
    {
      "cell_type": "code",
      "source": [
        "heights=np.random.normal(172.4,5,100)#평균 172.4 표준편차 5인 표본 100개를 생성\n",
        "print(heights)"
      ],
      "metadata": {
        "colab": {
          "base_uri": "https://localhost:8080/"
        },
        "id": "YzSgZidZkW8G",
        "outputId": "51ff47b2-8b1b-4c64-9d98-36e8a476b4f5"
      },
      "execution_count": null,
      "outputs": [
        {
          "output_type": "stream",
          "name": "stdout",
          "text": [
            "[169.91700463 165.65887559 166.5602653  169.14224681 171.59168397\n",
            " 176.53905527 168.18328715 171.46910173 167.86892521 163.94796794\n",
            " 179.58947676 176.52188753 162.75609025 175.90614518 164.33697146\n",
            " 180.04780209 175.17867214 168.4578146  169.80211153 178.40858299\n",
            " 170.54550434 178.42793868 177.43047707 170.98037382 169.78452516\n",
            " 176.84230315 172.2640954  168.53546401 176.82628714 171.46538509\n",
            " 177.96100658 171.61215586 163.92540205 180.93654925 178.35068552\n",
            " 164.47335403 168.39811552 170.00012645 168.24486925 176.10583558\n",
            " 172.68633249 170.64442347 175.67691771 177.69962658 171.46210726\n",
            " 172.41520179 176.38642041 170.03705838 164.09743088 166.22772255\n",
            " 176.04122282 171.29921032 176.06615287 177.35944225 168.18620273\n",
            " 167.53313015 169.90734106 176.41035815 173.67776099 176.87061619\n",
            " 166.12747719 167.91061202 172.15663346 164.66957599 163.91526917\n",
            " 163.42336874 174.84115349 172.08575957 165.75041973 175.65649993\n",
            " 175.64493124 173.84473365 173.79188942 176.39551503 177.68465089\n",
            " 168.18557907 169.00907297 176.96321293 168.2759303  172.14844592\n",
            " 173.9095893  174.57922722 167.09676213 167.55988937 177.73157241\n",
            " 173.17042407 169.92154875 170.0832004  170.12608866 174.61356671\n",
            " 175.33734641 168.74832729 180.65501514 172.3050287  167.2585981\n",
            " 173.28482978 166.56800283 177.53880141 176.28592667 169.2675794 ]\n"
          ]
        }
      ]
    },
    {
      "cell_type": "code",
      "source": [
        "print(\"평균:\",heights.mean())#print(\"평균:\",np.mean(heights))\n",
        "print(\"합계:\",heights.sum()) #print(\"합계:\",np.sum(heights))"
      ],
      "metadata": {
        "colab": {
          "base_uri": "https://localhost:8080/"
        },
        "id": "jpVNHJrwlF4k",
        "outputId": "b3784ee4-60d5-41df-f23c-f87ed5999329"
      },
      "execution_count": null,
      "outputs": [
        {
          "output_type": "stream",
          "name": "stdout",
          "text": [
            "평균: 171.9020115656469\n",
            "합계: 17190.20115656469\n"
          ]
        }
      ]
    },
    {
      "cell_type": "code",
      "source": [
        "h2=heights.reshape(20,-1)\n",
        "print(\"구조:\",h2.shape)\n",
        "print(h2)"
      ],
      "metadata": {
        "colab": {
          "base_uri": "https://localhost:8080/"
        },
        "id": "yFLtvwLBlSEI",
        "outputId": "886c158f-f251-455c-c8e9-67e60d60bfbb"
      },
      "execution_count": null,
      "outputs": [
        {
          "output_type": "stream",
          "name": "stdout",
          "text": [
            "구조: (20, 5)\n",
            "[[169.91700463 165.65887559 166.5602653  169.14224681 171.59168397]\n",
            " [176.53905527 168.18328715 171.46910173 167.86892521 163.94796794]\n",
            " [179.58947676 176.52188753 162.75609025 175.90614518 164.33697146]\n",
            " [180.04780209 175.17867214 168.4578146  169.80211153 178.40858299]\n",
            " [170.54550434 178.42793868 177.43047707 170.98037382 169.78452516]\n",
            " [176.84230315 172.2640954  168.53546401 176.82628714 171.46538509]\n",
            " [177.96100658 171.61215586 163.92540205 180.93654925 178.35068552]\n",
            " [164.47335403 168.39811552 170.00012645 168.24486925 176.10583558]\n",
            " [172.68633249 170.64442347 175.67691771 177.69962658 171.46210726]\n",
            " [172.41520179 176.38642041 170.03705838 164.09743088 166.22772255]\n",
            " [176.04122282 171.29921032 176.06615287 177.35944225 168.18620273]\n",
            " [167.53313015 169.90734106 176.41035815 173.67776099 176.87061619]\n",
            " [166.12747719 167.91061202 172.15663346 164.66957599 163.91526917]\n",
            " [163.42336874 174.84115349 172.08575957 165.75041973 175.65649993]\n",
            " [175.64493124 173.84473365 173.79188942 176.39551503 177.68465089]\n",
            " [168.18557907 169.00907297 176.96321293 168.2759303  172.14844592]\n",
            " [173.9095893  174.57922722 167.09676213 167.55988937 177.73157241]\n",
            " [173.17042407 169.92154875 170.0832004  170.12608866 174.61356671]\n",
            " [175.33734641 168.74832729 180.65501514 172.3050287  167.2585981 ]\n",
            " [173.28482978 166.56800283 177.53880141 176.28592667 169.2675794 ]]\n"
          ]
        }
      ]
    },
    {
      "cell_type": "code",
      "source": [
        "print(\"평균(축0):\",h2.mean(axis=0)) #컬럼 별 평균\n",
        "print(\"평균(축1):\",h2.mean(axis=1)) #로우 별 평균"
      ],
      "metadata": {
        "colab": {
          "base_uri": "https://localhost:8080/"
        },
        "id": "9Z7MoABzl792",
        "outputId": "e2ab376a-2b3c-4ff0-a844-a4ce0aeaec23"
      },
      "execution_count": null,
      "outputs": [
        {
          "output_type": "stream",
          "name": "stdout",
          "text": [
            "평균(축0): [172.68374699 171.49525507 171.88482515 171.69550717 171.75072345]\n",
            "평균(축1): [168.57401526 169.60166746 171.82211424 174.37899667 173.43376381\n",
            " 173.18670696 174.55715985 169.44446017 173.6338815  169.8327668\n",
            " 173.7904462  172.87984131 166.95591356 170.35144029 175.47234405\n",
            " 170.91644824 172.17540809 171.58296572 172.86086313 172.58902802]\n"
          ]
        }
      ]
    },
    {
      "cell_type": "code",
      "source": [
        "print(\"합계(축0):\",h2.sum(axis=0)) #컬럼 별 합계\n",
        "print(\"합계(축1):\",h2.sum(axis=1)) #로우 별 합계"
      ],
      "metadata": {
        "colab": {
          "base_uri": "https://localhost:8080/"
        },
        "id": "hHJ-avFQmp72",
        "outputId": "2ca50df5-95f9-48c8-b400-b4e5d9b7f094"
      },
      "execution_count": null,
      "outputs": [
        {
          "output_type": "stream",
          "name": "stdout",
          "text": [
            "합계(축0): [3453.67493989 3429.90510134 3437.69650303 3433.91014334 3435.01446896]\n",
            "합계(축1): [842.8700763  848.0083373  859.11057119 871.89498335 867.16881907\n",
            " 865.93353479 872.78579926 847.22230083 868.16940749 849.163834\n",
            " 868.952231   864.39920654 834.77956782 851.75720146 877.36172023\n",
            " 854.58224118 860.87704043 857.91482859 864.30431565 862.94514009]\n"
          ]
        }
      ]
    },
    {
      "cell_type": "code",
      "source": [
        "print(\"분산(축0):\",h2.var())\n",
        "print(\"표준편차:\",h2.std()) "
      ],
      "metadata": {
        "colab": {
          "base_uri": "https://localhost:8080/"
        },
        "id": "WyMVsVvqm4wg",
        "outputId": "f1a48953-b985-4c2a-eae2-064d4e173e01"
      },
      "execution_count": null,
      "outputs": [
        {
          "output_type": "stream",
          "name": "stdout",
          "text": [
            "분산(축0): 20.99308135017244\n",
            "표준편차: 4.5818207461851275\n"
          ]
        }
      ]
    },
    {
      "cell_type": "code",
      "source": [
        "print(\"최솟값:\",h2.min())\n",
        "print(\"최댓값:\",h2.max()) "
      ],
      "metadata": {
        "colab": {
          "base_uri": "https://localhost:8080/"
        },
        "id": "mphlD3gKnLEZ",
        "outputId": "704ba5c7-6094-461a-b0d6-5f878b580c7d"
      },
      "execution_count": null,
      "outputs": [
        {
          "output_type": "stream",
          "name": "stdout",
          "text": [
            "최솟값: 162.7560902512109\n",
            "최댓값: 180.9365492506176\n"
          ]
        }
      ]
    },
    {
      "cell_type": "code",
      "source": [
        "print(\"최솟값이 있는 위치:\",heights.argmin())\n",
        "print(\"최댓값이 있는 위치:\",heights.argmax()) \n",
        "print(heights[heights.argmin()],heights[heights.argmax()])"
      ],
      "metadata": {
        "colab": {
          "base_uri": "https://localhost:8080/"
        },
        "id": "t6cu71MHnbZI",
        "outputId": "24efc93c-ae77-46ca-9892-95e6745ff6f0"
      },
      "execution_count": null,
      "outputs": [
        {
          "output_type": "stream",
          "name": "stdout",
          "text": [
            "최솟값이 있는 위치: 12\n",
            "최댓값이 있는 위치: 33\n",
            "162.7560902512109 180.9365492506176\n"
          ]
        }
      ]
    },
    {
      "cell_type": "code",
      "source": [
        "arr=np.array([1,2,4,2,7])\n",
        "print(\"누적합계:\",arr.cumsum())\n",
        "print(\"누적곱:\",arr.cumprod())"
      ],
      "metadata": {
        "colab": {
          "base_uri": "https://localhost:8080/"
        },
        "id": "f3FQwKYLoKXB",
        "outputId": "54608fd7-fd56-4df9-8179-3a7c0f600a4e"
      },
      "execution_count": null,
      "outputs": [
        {
          "output_type": "stream",
          "name": "stdout",
          "text": [
            "누적합계: [ 1  3  7  9 16]\n",
            "누적곱: [  1   2   8  16 112]\n"
          ]
        }
      ]
    },
    {
      "cell_type": "code",
      "source": [
        "s_arr=arr.sort()\n",
        "print(arr)"
      ],
      "metadata": {
        "colab": {
          "base_uri": "https://localhost:8080/"
        },
        "id": "h1_-Uut5orH1",
        "outputId": "1a39bb0c-d559-49ec-d301-f261de64063d"
      },
      "execution_count": null,
      "outputs": [
        {
          "output_type": "stream",
          "name": "stdout",
          "text": [
            "[1 2 2 4 7]\n"
          ]
        }
      ]
    },
    {
      "cell_type": "code",
      "source": [
        "ua=np.unique(arr)\n",
        "print(ua)"
      ],
      "metadata": {
        "colab": {
          "base_uri": "https://localhost:8080/"
        },
        "id": "Y2jYsg--pPeQ",
        "outputId": "ba2cde76-78a3-4fb6-d2e5-5c2ade8e331e"
      },
      "execution_count": null,
      "outputs": [
        {
          "output_type": "stream",
          "name": "stdout",
          "text": [
            "[1 2 4 7]\n"
          ]
        }
      ]
    },
    {
      "cell_type": "code",
      "source": [
        "x=np.array([[1,2,3],[4,5,6]])\n",
        "y=np.array([[2,3],[1,2],[4,5]])\n",
        "re=x.dot(y)\n",
        "print(x)\n",
        "print(\"=============\")\n",
        "print(y)\n",
        "print(\"=============\")\n",
        "print(re)"
      ],
      "metadata": {
        "colab": {
          "base_uri": "https://localhost:8080/"
        },
        "id": "RMcvyn6EpkdH",
        "outputId": "03808a6a-76c0-44a8-a58d-3c33bc8700a4"
      },
      "execution_count": null,
      "outputs": [
        {
          "output_type": "stream",
          "name": "stdout",
          "text": [
            "[[1 2 3]\n",
            " [4 5 6]]\n",
            "=============\n",
            "[[2 3]\n",
            " [1 2]\n",
            " [4 5]]\n",
            "=============\n",
            "[[16 22]\n",
            " [37 52]]\n"
          ]
        }
      ]
    },
    {
      "cell_type": "markdown",
      "source": [
        "# 난수"
      ],
      "metadata": {
        "id": "RnaZAseKxBQy"
      }
    },
    {
      "cell_type": "code",
      "source": [
        "for _ in range(10): #_ 의미없음. 변수를 굳이 쓰지 않겠다는 의미\n",
        "  print(np.random.uniform(-2,3)) #-2에서 3까지 랜덤하게 실수를 반환"
      ],
      "metadata": {
        "colab": {
          "base_uri": "https://localhost:8080/"
        },
        "id": "abf2VbVywZxP",
        "outputId": "651507fb-c678-435d-b82b-f284707c8e78"
      },
      "execution_count": null,
      "outputs": [
        {
          "output_type": "stream",
          "name": "stdout",
          "text": [
            "0.869278938898185\n",
            "-0.6777502491521159\n",
            "0.4762644287162461\n",
            "2.668225565197429\n",
            "0.7906828117711187\n",
            "1.331098238621673\n",
            "-1.8880711797383358\n",
            "0.579877407951872\n",
            "1.8549534867324775\n",
            "-1.625361636011685\n"
          ]
        }
      ]
    },
    {
      "cell_type": "code",
      "source": [
        "for _ in range(20):\n",
        "  print(np.random.randint(1,5),end=' ')#1에서 5까지 랜덤하게 정수를 반환\n",
        "print()"
      ],
      "metadata": {
        "colab": {
          "base_uri": "https://localhost:8080/"
        },
        "id": "omdiUMf3xslI",
        "outputId": "f7d33728-5f38-496c-c063-c7f09bb3a26a"
      },
      "execution_count": null,
      "outputs": [
        {
          "output_type": "stream",
          "name": "stdout",
          "text": [
            "3 4 2 3 1 4 3 1 1 2 1 4 2 4 3 3 4 4 4 2 \n"
          ]
        }
      ]
    },
    {
      "cell_type": "code",
      "source": [
        "volan=[1,7,2,8,9]\n",
        "for _ in range(20):\n",
        "  print(np.random.choice(volan), end=' ')\n",
        "print()"
      ],
      "metadata": {
        "colab": {
          "base_uri": "https://localhost:8080/"
        },
        "id": "ZTXaXQSjyso-",
        "outputId": "79f364c9-4c96-4caf-e66e-ab24dc2bbd4f"
      },
      "execution_count": null,
      "outputs": [
        {
          "output_type": "stream",
          "name": "stdout",
          "text": [
            "1 2 9 1 9 9 8 7 8 2 2 7 9 8 8 9 2 8 9 9 \n"
          ]
        }
      ]
    },
    {
      "cell_type": "code",
      "source": [
        "np.random.seed(100)"
      ],
      "metadata": {
        "id": "ag1oqnS4zGX-"
      },
      "execution_count": null,
      "outputs": []
    },
    {
      "cell_type": "code",
      "source": [],
      "metadata": {
        "id": "wI9qd5k0znIu"
      },
      "execution_count": null,
      "outputs": []
    }
  ]
}